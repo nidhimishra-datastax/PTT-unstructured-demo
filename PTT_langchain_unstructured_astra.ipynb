{
  "cells": [
    {
      "cell_type": "markdown",
      "metadata": {
        "id": "UfImCIiK0eZn"
      },
      "source": [
        "# RAG with Unstructured & AstraDB"
      ]
    },
    {
      "cell_type": "markdown",
      "metadata": {
        "id": "-E0Lyy0J0eZp"
      },
      "source": [
        "This example shows loading and parsing a PDF document with Unstructured.io into an Astra DB Serverless vector store, then querying the index with LangChain."
      ]
    },
    {
      "cell_type": "markdown",
      "metadata": {
        "id": "_xtkEu130eZq"
      },
      "source": [
        "### Requirements"
      ]
    },
    {
      "cell_type": "code",
      "execution_count": 1,
      "metadata": {
        "ExecuteTime": {
          "end_time": "2024-02-13T11:48:33.967092Z",
          "start_time": "2024-02-13T11:47:41.568768Z"
        },
        "editable": true,
        "nbmake": {
          "post_cell_execute": [
            "from conftest import before_notebook",
            "before_notebook()"
          ]
        },
        "tags": [],
        "id": "QtW7jz4f0eZq",
        "colab": {
          "base_uri": "https://localhost:8080/"
        },
        "outputId": "9d0faf3e-ffe2-4b03-90f4-39b8cb864e72"
      },
      "outputs": [
        {
          "output_type": "stream",
          "name": "stdout",
          "text": [
            "\u001b[2K     \u001b[90m━━━━━━━━━━━━━━━━━━━━━━━━━━━━━━━━━━━━━━━━\u001b[0m \u001b[32m44.9/44.9 kB\u001b[0m \u001b[31m2.3 MB/s\u001b[0m eta \u001b[36m0:00:00\u001b[0m\n",
            "\u001b[2K     \u001b[90m━━━━━━━━━━━━━━━━━━━━━━━━━━━━━━━━━━━━━━━━\u001b[0m \u001b[32m86.7/86.7 kB\u001b[0m \u001b[31m6.1 MB/s\u001b[0m eta \u001b[36m0:00:00\u001b[0m\n",
            "\u001b[?25h  Preparing metadata (setup.py) ... \u001b[?25l\u001b[?25hdone\n",
            "\u001b[2K     \u001b[90m━━━━━━━━━━━━━━━━━━━━━━━━━━━━━━━━━━━━━━━━\u001b[0m \u001b[32m38.0/38.0 MB\u001b[0m \u001b[31m10.1 MB/s\u001b[0m eta \u001b[36m0:00:00\u001b[0m\n",
            "\u001b[2K     \u001b[90m━━━━━━━━━━━━━━━━━━━━━━━━━━━━━━━━━━━━━━━━\u001b[0m \u001b[32m124.4/124.4 kB\u001b[0m \u001b[31m6.9 MB/s\u001b[0m eta \u001b[36m0:00:00\u001b[0m\n",
            "\u001b[2K     \u001b[90m━━━━━━━━━━━━━━━━━━━━━━━━━━━━━━━━━━━━━━━━\u001b[0m \u001b[32m817.7/817.7 kB\u001b[0m \u001b[31m26.1 MB/s\u001b[0m eta \u001b[36m0:00:00\u001b[0m\n",
            "\u001b[2K     \u001b[90m━━━━━━━━━━━━━━━━━━━━━━━━━━━━━━━━━━━━━━━━\u001b[0m \u001b[32m1.9/1.9 MB\u001b[0m \u001b[31m44.4 MB/s\u001b[0m eta \u001b[36m0:00:00\u001b[0m\n",
            "\u001b[2K     \u001b[90m━━━━━━━━━━━━━━━━━━━━━━━━━━━━━━━━━━━━━━━━\u001b[0m \u001b[32m291.3/291.3 kB\u001b[0m \u001b[31m22.9 MB/s\u001b[0m eta \u001b[36m0:00:00\u001b[0m\n",
            "\u001b[2K     \u001b[90m━━━━━━━━━━━━━━━━━━━━━━━━━━━━━━━━━━━━━━━━\u001b[0m \u001b[32m1.8/1.8 MB\u001b[0m \u001b[31m18.7 MB/s\u001b[0m eta \u001b[36m0:00:00\u001b[0m\n",
            "\u001b[2K     \u001b[90m━━━━━━━━━━━━━━━━━━━━━━━━━━━━━━━━━━━━━━━━\u001b[0m \u001b[32m53.3/53.3 kB\u001b[0m \u001b[31m4.1 MB/s\u001b[0m eta \u001b[36m0:00:00\u001b[0m\n",
            "\u001b[2K     \u001b[90m━━━━━━━━━━━━━━━━━━━━━━━━━━━━━━━━━━━━━━━━\u001b[0m \u001b[32m288.3/288.3 kB\u001b[0m \u001b[31m8.4 MB/s\u001b[0m eta \u001b[36m0:00:00\u001b[0m\n",
            "\u001b[2K     \u001b[90m━━━━━━━━━━━━━━━━━━━━━━━━━━━━━━━━━━━━━━━━\u001b[0m \u001b[32m542.0/542.0 kB\u001b[0m \u001b[31m31.2 MB/s\u001b[0m eta \u001b[36m0:00:00\u001b[0m\n",
            "\u001b[2K     \u001b[90m━━━━━━━━━━━━━━━━━━━━━━━━━━━━━━━━━━━━━━━━\u001b[0m \u001b[32m307.2/307.2 kB\u001b[0m \u001b[31m22.9 MB/s\u001b[0m eta \u001b[36m0:00:00\u001b[0m\n",
            "\u001b[2K     \u001b[90m━━━━━━━━━━━━━━━━━━━━━━━━━━━━━━━━━━━━━━━━\u001b[0m \u001b[32m53.2/53.2 kB\u001b[0m \u001b[31m5.5 MB/s\u001b[0m eta \u001b[36m0:00:00\u001b[0m\n",
            "\u001b[2K     \u001b[90m━━━━━━━━━━━━━━━━━━━━━━━━━━━━━━━━━━━━━━━━\u001b[0m \u001b[32m116.7/116.7 kB\u001b[0m \u001b[31m15.4 MB/s\u001b[0m eta \u001b[36m0:00:00\u001b[0m\n",
            "\u001b[2K     \u001b[90m━━━━━━━━━━━━━━━━━━━━━━━━━━━━━━━━━━━━━━━━\u001b[0m \u001b[32m53.0/53.0 kB\u001b[0m \u001b[31m6.1 MB/s\u001b[0m eta \u001b[36m0:00:00\u001b[0m\n",
            "\u001b[2K     \u001b[90m━━━━━━━━━━━━━━━━━━━━━━━━━━━━━━━━━━━━━━━━\u001b[0m \u001b[32m137.4/137.4 kB\u001b[0m \u001b[31m15.3 MB/s\u001b[0m eta \u001b[36m0:00:00\u001b[0m\n",
            "\u001b[2K     \u001b[90m━━━━━━━━━━━━━━━━━━━━━━━━━━━━━━━━━━━━━━━━\u001b[0m \u001b[32m125.6/125.6 kB\u001b[0m \u001b[31m14.3 MB/s\u001b[0m eta \u001b[36m0:00:00\u001b[0m\n",
            "\u001b[2K     \u001b[90m━━━━━━━━━━━━━━━━━━━━━━━━━━━━━━━━━━━━━━━━\u001b[0m \u001b[32m67.9/67.9 kB\u001b[0m \u001b[31m799.5 kB/s\u001b[0m eta \u001b[36m0:00:00\u001b[0m\n",
            "\u001b[2K     \u001b[90m━━━━━━━━━━━━━━━━━━━━━━━━━━━━━━━━━━━━━━━━\u001b[0m \u001b[32m4.5/4.5 MB\u001b[0m \u001b[31m51.2 MB/s\u001b[0m eta \u001b[36m0:00:00\u001b[0m\n",
            "\u001b[2K     \u001b[90m━━━━━━━━━━━━━━━━━━━━━━━━━━━━━━━━━━━━━━━━\u001b[0m \u001b[32m314.1/314.1 kB\u001b[0m \u001b[31m27.7 MB/s\u001b[0m eta \u001b[36m0:00:00\u001b[0m\n",
            "\u001b[2K     \u001b[90m━━━━━━━━━━━━━━━━━━━━━━━━━━━━━━━━━━━━━━━━\u001b[0m \u001b[32m1.8/1.8 MB\u001b[0m \u001b[31m59.1 MB/s\u001b[0m eta \u001b[36m0:00:00\u001b[0m\n",
            "\u001b[2K     \u001b[90m━━━━━━━━━━━━━━━━━━━━━━━━━━━━━━━━━━━━━━━━\u001b[0m \u001b[32m15.4/15.4 MB\u001b[0m \u001b[31m67.6 MB/s\u001b[0m eta \u001b[36m0:00:00\u001b[0m\n",
            "\u001b[2K     \u001b[90m━━━━━━━━━━━━━━━━━━━━━━━━━━━━━━━━━━━━━━━━\u001b[0m \u001b[32m2.0/2.0 MB\u001b[0m \u001b[31m49.4 MB/s\u001b[0m eta \u001b[36m0:00:00\u001b[0m\n",
            "\u001b[2K     \u001b[90m━━━━━━━━━━━━━━━━━━━━━━━━━━━━━━━━━━━━━━━━\u001b[0m \u001b[32m139.3/139.3 kB\u001b[0m \u001b[31m18.2 MB/s\u001b[0m eta \u001b[36m0:00:00\u001b[0m\n",
            "\u001b[2K     \u001b[90m━━━━━━━━━━━━━━━━━━━━━━━━━━━━━━━━━━━━━━━━\u001b[0m \u001b[32m166.1/166.1 kB\u001b[0m \u001b[31m20.4 MB/s\u001b[0m eta \u001b[36m0:00:00\u001b[0m\n",
            "\u001b[2K     \u001b[90m━━━━━━━━━━━━━━━━━━━━━━━━━━━━━━━━━━━━━━━━\u001b[0m \u001b[32m75.6/75.6 kB\u001b[0m \u001b[31m10.1 MB/s\u001b[0m eta \u001b[36m0:00:00\u001b[0m\n",
            "\u001b[2K     \u001b[90m━━━━━━━━━━━━━━━━━━━━━━━━━━━━━━━━━━━━━━━━\u001b[0m \u001b[32m433.8/433.8 kB\u001b[0m \u001b[31m39.0 MB/s\u001b[0m eta \u001b[36m0:00:00\u001b[0m\n",
            "\u001b[2K     \u001b[90m━━━━━━━━━━━━━━━━━━━━━━━━━━━━━━━━━━━━━━━━\u001b[0m \u001b[32m274.7/274.7 kB\u001b[0m \u001b[31m30.4 MB/s\u001b[0m eta \u001b[36m0:00:00\u001b[0m\n",
            "\u001b[2K     \u001b[90m━━━━━━━━━━━━━━━━━━━━━━━━━━━━━━━━━━━━━━━━\u001b[0m \u001b[32m981.5/981.5 kB\u001b[0m \u001b[31m51.5 MB/s\u001b[0m eta \u001b[36m0:00:00\u001b[0m\n",
            "\u001b[?25h  Preparing metadata (setup.py) ... \u001b[?25l\u001b[?25hdone\n",
            "\u001b[2K     \u001b[90m━━━━━━━━━━━━━━━━━━━━━━━━━━━━━━━━━━━━━━━━\u001b[0m \u001b[32m3.4/3.4 MB\u001b[0m \u001b[31m70.8 MB/s\u001b[0m eta \u001b[36m0:00:00\u001b[0m\n",
            "\u001b[?25h  Preparing metadata (setup.py) ... \u001b[?25l\u001b[?25hdone\n",
            "\u001b[2K     \u001b[90m━━━━━━━━━━━━━━━━━━━━━━━━━━━━━━━━━━━━━━━━\u001b[0m \u001b[32m18.9/18.9 MB\u001b[0m \u001b[31m61.7 MB/s\u001b[0m eta \u001b[36m0:00:00\u001b[0m\n",
            "\u001b[2K     \u001b[90m━━━━━━━━━━━━━━━━━━━━━━━━━━━━━━━━━━━━━━━━\u001b[0m \u001b[32m193.4/193.4 kB\u001b[0m \u001b[31m23.0 MB/s\u001b[0m eta \u001b[36m0:00:00\u001b[0m\n",
            "\u001b[2K     \u001b[90m━━━━━━━━━━━━━━━━━━━━━━━━━━━━━━━━━━━━━━━━\u001b[0m \u001b[32m102.2/102.2 kB\u001b[0m \u001b[31m13.4 MB/s\u001b[0m eta \u001b[36m0:00:00\u001b[0m\n",
            "\u001b[2K     \u001b[90m━━━━━━━━━━━━━━━━━━━━━━━━━━━━━━━━━━━━━━━━\u001b[0m \u001b[32m12.2/12.2 MB\u001b[0m \u001b[31m35.0 MB/s\u001b[0m eta \u001b[36m0:00:00\u001b[0m\n",
            "\u001b[2K     \u001b[90m━━━━━━━━━━━━━━━━━━━━━━━━━━━━━━━━━━━━━━━━\u001b[0m \u001b[32m82.2/82.2 kB\u001b[0m \u001b[31m10.4 MB/s\u001b[0m eta \u001b[36m0:00:00\u001b[0m\n",
            "\u001b[2K     \u001b[90m━━━━━━━━━━━━━━━━━━━━━━━━━━━━━━━━━━━━━━━━\u001b[0m \u001b[32m49.3/49.3 kB\u001b[0m \u001b[31m5.9 MB/s\u001b[0m eta \u001b[36m0:00:00\u001b[0m\n",
            "\u001b[2K     \u001b[90m━━━━━━━━━━━━━━━━━━━━━━━━━━━━━━━━━━━━━━━━\u001b[0m \u001b[32m139.0/139.0 kB\u001b[0m \u001b[31m14.9 MB/s\u001b[0m eta \u001b[36m0:00:00\u001b[0m\n",
            "\u001b[2K     \u001b[90m━━━━━━━━━━━━━━━━━━━━━━━━━━━━━━━━━━━━━━━━\u001b[0m \u001b[32m598.7/598.7 kB\u001b[0m \u001b[31m36.9 MB/s\u001b[0m eta \u001b[36m0:00:00\u001b[0m\n",
            "\u001b[2K     \u001b[90m━━━━━━━━━━━━━━━━━━━━━━━━━━━━━━━━━━━━━━━━\u001b[0m \u001b[32m77.9/77.9 kB\u001b[0m \u001b[31m9.0 MB/s\u001b[0m eta \u001b[36m0:00:00\u001b[0m\n",
            "\u001b[2K     \u001b[90m━━━━━━━━━━━━━━━━━━━━━━━━━━━━━━━━━━━━━━━━\u001b[0m \u001b[32m57.5/57.5 kB\u001b[0m \u001b[31m6.5 MB/s\u001b[0m eta \u001b[36m0:00:00\u001b[0m\n",
            "\u001b[2K     \u001b[90m━━━━━━━━━━━━━━━━━━━━━━━━━━━━━━━━━━━━━━━━\u001b[0m \u001b[32m58.3/58.3 kB\u001b[0m \u001b[31m7.3 MB/s\u001b[0m eta \u001b[36m0:00:00\u001b[0m\n",
            "\u001b[2K     \u001b[90m━━━━━━━━━━━━━━━━━━━━━━━━━━━━━━━━━━━━━━━━\u001b[0m \u001b[32m142.5/142.5 kB\u001b[0m \u001b[31m15.8 MB/s\u001b[0m eta \u001b[36m0:00:00\u001b[0m\n",
            "\u001b[2K     \u001b[90m━━━━━━━━━━━━━━━━━━━━━━━━━━━━━━━━━━━━━━━━\u001b[0m \u001b[32m141.9/141.9 kB\u001b[0m \u001b[31m17.1 MB/s\u001b[0m eta \u001b[36m0:00:00\u001b[0m\n",
            "\u001b[2K     \u001b[90m━━━━━━━━━━━━━━━━━━━━━━━━━━━━━━━━━━━━━━━━\u001b[0m \u001b[32m869.1/869.1 kB\u001b[0m \u001b[31m61.7 MB/s\u001b[0m eta \u001b[36m0:00:00\u001b[0m\n",
            "\u001b[2K     \u001b[90m━━━━━━━━━━━━━━━━━━━━━━━━━━━━━━━━━━━━━━━━\u001b[0m \u001b[32m290.4/290.4 kB\u001b[0m \u001b[31m31.6 MB/s\u001b[0m eta \u001b[36m0:00:00\u001b[0m\n",
            "\u001b[2K     \u001b[90m━━━━━━━━━━━━━━━━━━━━━━━━━━━━━━━━━━━━━━━━\u001b[0m \u001b[32m80.8/80.8 kB\u001b[0m \u001b[31m6.6 MB/s\u001b[0m eta \u001b[36m0:00:00\u001b[0m\n",
            "\u001b[2K     \u001b[90m━━━━━━━━━━━━━━━━━━━━━━━━━━━━━━━━━━━━━━━━\u001b[0m \u001b[32m116.3/116.3 kB\u001b[0m \u001b[31m14.7 MB/s\u001b[0m eta \u001b[36m0:00:00\u001b[0m\n",
            "\u001b[2K     \u001b[90m━━━━━━━━━━━━━━━━━━━━━━━━━━━━━━━━━━━━━━━━\u001b[0m \u001b[32m194.1/194.1 kB\u001b[0m \u001b[31m22.4 MB/s\u001b[0m eta \u001b[36m0:00:00\u001b[0m\n",
            "\u001b[2K     \u001b[90m━━━━━━━━━━━━━━━━━━━━━━━━━━━━━━━━━━━━━━━━\u001b[0m \u001b[32m134.8/134.8 kB\u001b[0m \u001b[31m16.7 MB/s\u001b[0m eta \u001b[36m0:00:00\u001b[0m\n",
            "\u001b[2K     \u001b[90m━━━━━━━━━━━━━━━━━━━━━━━━━━━━━━━━━━━━━━━━\u001b[0m \u001b[32m401.2/401.2 kB\u001b[0m \u001b[31m37.8 MB/s\u001b[0m eta \u001b[36m0:00:00\u001b[0m\n",
            "\u001b[2K     \u001b[90m━━━━━━━━━━━━━━━━━━━━━━━━━━━━━━━━━━━━━━━━\u001b[0m \u001b[32m207.3/207.3 kB\u001b[0m \u001b[31m21.6 MB/s\u001b[0m eta \u001b[36m0:00:00\u001b[0m\n",
            "\u001b[2K     \u001b[90m━━━━━━━━━━━━━━━━━━━━━━━━━━━━━━━━━━━━━━━━\u001b[0m \u001b[32m62.7/62.7 kB\u001b[0m \u001b[31m8.0 MB/s\u001b[0m eta \u001b[36m0:00:00\u001b[0m\n",
            "\u001b[?25h  Building wheel for colbert-ai (setup.py) ... \u001b[?25l\u001b[?25hdone\n",
            "  Building wheel for bson (setup.py) ... \u001b[?25l\u001b[?25hdone\n",
            "  Building wheel for langdetect (setup.py) ... \u001b[?25l\u001b[?25hdone\n",
            "\u001b[31mERROR: pip's dependency resolver does not currently take into account all the packages that are installed. This behaviour is the source of the following dependency conflicts.\n",
            "imageio 2.31.6 requires pillow<10.1.0,>=8.3.2, but you have pillow 10.3.0 which is incompatible.\u001b[0m\u001b[31m\n",
            "\u001b[0m"
          ]
        }
      ],
      "source": [
        "! pip install --quiet ragstack-ai"
      ]
    },
    {
      "cell_type": "markdown",
      "metadata": {
        "id": "XvKOeXuj0eZr"
      },
      "source": [
        "### Configuration"
      ]
    },
    {
      "cell_type": "markdown",
      "source": [
        "To use Unstructured.io, you need an API key. Sign-up for one here: https://unstructured.io/api-key-hosted."
      ],
      "metadata": {
        "id": "ZkkVP6U333e0"
      }
    },
    {
      "cell_type": "code",
      "execution_count": 2,
      "metadata": {
        "ExecuteTime": {
          "end_time": "2024-02-13T11:59:43.987486Z",
          "start_time": "2024-02-13T11:56:57.909870Z"
        },
        "editable": true,
        "tags": [
          "skip-execution"
        ],
        "id": "6kVHqzSs0eZr",
        "colab": {
          "base_uri": "https://localhost:8080/"
        },
        "outputId": "401f4175-1493-429e-e730-af4552003f5b"
      },
      "outputs": [
        {
          "name": "stdout",
          "output_type": "stream",
          "text": [
            "Enter your Unstructured API Key:··········\n",
            "Enter your Unstructured API URL:··········\n",
            "Enter your Astra DB API Endpoint: https://756b996f-a063-4881-9757-1f7299209ae5-us-east-1.apps.astra.datastax.com\n",
            "Enter your Astra DB Token: ··········\n",
            "Enter your OpenAI API Key: ··········\n"
          ]
        }
      ],
      "source": [
        "import os\n",
        "from getpass import getpass\n",
        "\n",
        "os.environ[\"UNSTRUCTURED_API_KEY\"] = getpass(\"Enter your Unstructured API Key:\")\n",
        "os.environ[\"UNSTRUCTURED_API_URL\"] = getpass(\"Enter your Unstructured API URL:\")\n",
        "os.environ[\"ASTRA_DB_API_ENDPOINT\"] = input(\"Enter your Astra DB API Endpoint: \")\n",
        "os.environ[\"ASTRA_DB_APPLICATION_TOKEN\"] = getpass(\"Enter your Astra DB Token: \")\n",
        "os.environ[\"OPENAI_API_KEY\"] = getpass(\"Enter your OpenAI API Key: \")\n"
      ]
    },
    {
      "cell_type": "markdown",
      "metadata": {
        "id": "rWwvROax0eZr"
      },
      "source": [
        "### Using the Unstructured API to parse a PDF"
      ]
    },
    {
      "cell_type": "markdown",
      "metadata": {
        "id": "ROWC3XfY0eZt"
      },
      "source": [
        "#### Advanced Parsing\n",
        "\n",
        "The unstructured library aims to simplify and streamline the preprocessing of structured and unstructured documents for downstream tasks. When we partition a document, the output is a list of document Element objects. These element objects represent different components of the source document. Currently, the unstructured library supports the following element types:\n",
        "\n",
        "* type\n",
        "    * FigureCaption\n",
        "    * NarrativeText\n",
        "    * ListItem\n",
        "    * Title\n",
        "    * Address\n",
        "    * Table\n",
        "    * PageBreak\n",
        "    * Header\n",
        "    * Footer\n",
        "    * UncategorizedText\n",
        "    * Image\n",
        "    * Formula\n",
        "* element_id\n",
        "* metadata - see: Metadata page\n",
        "* text\n",
        "\n"
      ]
    },
    {
      "cell_type": "code",
      "execution_count": 33,
      "metadata": {
        "id": "797EVLGu0eZt",
        "outputId": "badc1960-dcf3-4139-e9ad-12303149297c",
        "colab": {
          "base_uri": "https://localhost:8080/"
        }
      },
      "outputs": [
        {
          "output_type": "execute_result",
          "data": {
            "text/plain": [
              "395"
            ]
          },
          "metadata": {},
          "execution_count": 33
        }
      ],
      "source": [
        "from langchain_community.document_loaders import unstructured\n",
        "\n",
        "elements = unstructured.get_elements_from_api(\n",
        "    file_path=\"/content/ES-20.02-D2_Quality_Requirement_for_Pressure_Vessel.pdf\",\n",
        "    api_key=os.getenv(\"UNSTRUCTURED_API_KEY\"),\n",
        "    api_url = os.getenv(\"UNSTRUCTURED_API_URL\"),\n",
        "    strategy=\"hi_res\", # default \"auto\"\n",
        "    pdf_infer_table_structure=True,\n",
        ")\n",
        "\n",
        "len(elements)"
      ]
    },
    {
      "cell_type": "code",
      "execution_count": 34,
      "metadata": {
        "id": "qX2a_qmw0eZt",
        "outputId": "3efab1f8-69e4-4fb8-9171-e1bf34a2d796",
        "colab": {
          "base_uri": "https://localhost:8080/",
          "height": 1000
        }
      },
      "outputs": [
        {
          "output_type": "stream",
          "name": "stdout",
          "text": [
            "QUALITY REQUIREMENTS FOR PRESSURE VESSEL\n",
            "  \n",
            "PTT PUBLIC CO., LTD ENGINEERING STANDARD\n",
            "        \n",
            "PTT PUBLIC COMPANY LIMITED\n",
            "parent: 'PTT PUBLIC COMPANY LIMITED' content: GAS SEPARATION PLANT RAYONG\n",
            "parent: 'PTT PUBLIC COMPANY LIMITED' content: QUALITY REQUIREMENT FOR\n",
            "parent: 'PTT PUBLIC COMPANY LIMITED' content: PRESSURE VESSEL\n",
            "parent: 'PTT PUBLIC COMPANY LIMITED' content: ES-20.02\n",
            "ES-20.02 PAGE 1 OF 28\n",
            "parent: 'ES-20.02 PAGE 1 OF 28' content: ES-20.02-D2.docx\n",
            "QUALITY REQUIREMENTS FOR PRESSURE VESSEL\n",
            "  \n",
            "PTT PUBLIC CO., LTD ENGINEERING STANDARD\n",
            "ES-20.02 PAGE 2 OF 28\n",
            "parent: 'ES-20.02 PAGE 2 OF 28' content: CONTENTS\n"
          ]
        },
        {
          "output_type": "display_data",
          "data": {
            "text/plain": [
              "<IPython.core.display.HTML object>"
            ],
            "text/html": [
              "<table><thead><th>SECTION</th><th>SUBJECT</th></thead><tr><td>1.0</td><td>SCOPE</td></tr><tr><td>2.0</td><td>APPLICABLE CODES</td></tr><tr><td>3.0</td><td>PTT SPECIFICATION&amp; STANDARD</td></tr><tr><td>4.0</td><td>DRAWINGS AND RELATED DOCUMENT!</td></tr><tr><td>5.0</td><td>MATERIALS</td></tr><tr><td>6.0</td><td>FABRICATION</td></tr><tr><td>7.0</td><td>TESTING AND INSPECTION</td></tr><tr><td>8.0</td><td>MARKING</td></tr></table>"
            ]
          },
          "metadata": {}
        },
        {
          "output_type": "stream",
          "name": "stdout",
          "text": [
            "parent: 'CONTENTS' content: APPENDIX 1\n",
            "parent: 'CONTENTS' content: ES-20.02-D2.docx\n",
            "parent: 'ES-20.02 PAGE 2 OF 28' content: QUALITY REQUIREMENTS FOR PRESSURE VESSEL\n",
            "  \n",
            "PTT PUBLIC CO., LTD ENGINEERING STANDARD\n",
            "ES-20.02 PAGE 3 OF 28\n",
            "parent: 'ES-20.02 PAGE 3 OF 28' content: 1.0 SCOPE\n",
            "parent: '1.0 SCOPE' content: The instructions specified in this standard are the basic, minimum require, and general quality requirements for the design, fabrication, testing and inspection of pressure vessels columns.\n",
            "parent: '1.0 SCOPE' content: Any conflicting requirements shall be referred to PTT for clarification before proceeding with fabrication of the affected parts.\n",
            "parent: 'ES-20.02 PAGE 3 OF 28' content: 2.0 APPLICABLE CODES AND STANDARDS.\n",
            "parent: '2.0 APPLICABLE CODES AND STANDARDS.' content: The American Society of Mechanical Engineers (ASME) Boiler and Pressure Vessel Code (ASME Code)\n",
            "parent: 'ES-20.02 PAGE 3 OF 28' content: ASME Section II Part A, ferrous Materials\n"
          ]
        },
        {
          "output_type": "display_data",
          "data": {
            "text/plain": [
              "<IPython.core.display.HTML object>"
            ],
            "text/html": [
              "<table><tr><td>ASME Section V</td><td>Non-Destructive Examination</td></tr><tr><td>ASME Section VIII Div. 1</td><td>Unfired Pressure Vessel</td></tr><tr><td>ASME Section VIII Div .2</td><td>Alternative rule</td></tr><tr><td>ASME Section IX</td><td>Welding and Brazing Qualifications</td></tr></table>"
            ]
          },
          "metadata": {}
        },
        {
          "output_type": "stream",
          "name": "stdout",
          "text": [
            "parent: 'ASME Section II Part A, ferrous Materials' content: 2.2 American Society of Mechanical Engineers (ASME)/ American National Standard Institute (ANSI)\n"
          ]
        },
        {
          "output_type": "display_data",
          "data": {
            "text/plain": [
              "<IPython.core.display.HTML object>"
            ],
            "text/html": [
              "<table><thead><th>ASME B16.5</th><th>Pipe Flanges and Flange Fitting</th></thead><tr><td>ASME B16.9</td><td>Factory made Wrought Steel Butt-welding Fittin</td></tr><tr><td>ASME B16.47</td><td>Large Diameter Steel Flange</td></tr><tr><td>ASME B36.10</td><td>Welded and Seamless Wrought Steel Pipe</td></tr><tr><td rowspan=\"2\">ASME RTP-1 Resistant</td><td>Reinforced Thermoset Plastic (RTP) Corrosion</td></tr><tr><td></td><td>Equipment</td></tr></table>"
            ]
          },
          "metadata": {}
        },
        {
          "output_type": "stream",
          "name": "stdout",
          "text": [
            "parent: 'ASME Section II Part A, ferrous Materials' content: 2.3 American Society for Testing Materials (ASTM)\n",
            "parent: 'ASME Section II Part A, ferrous Materials' content: 2.4.1 Stresses in Large Horizontal Pressure Vessel on Two Saddled Support- by LP Zick\n",
            "parent: 'ASME Section II Part A, ferrous Materials' content: Part C. Welding Rods, Electrode and Filler Metal\n",
            "parent: 'ASME Section II Part A, ferrous Materials' content: 2.4 Research Report\n",
            "parent: 'ASME Section II Part A, ferrous Materials' content: ES-20.02-D2.docx\n",
            "parent: 'ES-20.02 PAGE 3 OF 28' content: QUALITY REQUIREMENTS FOR PRESSURE VESSEL\n",
            "  \n",
            "PTT PUBLIC CO., LTD ENGINEERING STANDARD\n",
            "ES-20.02 PAGE 4 OF 28\n",
            "parent: 'ES-20.02 PAGE 4 OF 28' content: 2.4.2 Welding Research Council (WRC) Bulletin No 107\n",
            "parent: 'ES-20.02 PAGE 4 OF 28' content: 2.5 National Association of Corrosion Engineers\n",
            "parent: 'ES-20.02 PAGE 4 OF 28' content: NACE MR 0175 Sulphide Stress Cracking Resistant-Metallic Materials for oilfield Equipment\n",
            "parent: 'ES-20.02 PAGE 4 OF 28' content: 3.0 PTT SPECIFICATIONS, STANDARD DRAWINGS\n"
          ]
        },
        {
          "output_type": "display_data",
          "data": {
            "text/plain": [
              "<IPython.core.display.HTML object>"
            ],
            "text/html": [
              "<table><tr><td>ES-20.01</td><td>Vessel Standard</td></tr><tr><td>ES-20.03</td><td>Marking for Vessel and Heat Exchanger.</td></tr><tr><td>ES-20.04</td><td>Column Tray</td></tr><tr><td>ES-92.01</td><td>Hot Insulation</td></tr><tr><td>ES-92.02</td><td>Cold Insulation</td></tr><tr><td>ES-92.05</td><td>External Fireproofing of equipment Supports and Structures</td></tr><tr><td>ES-92.06</td><td>Painting</td></tr><tr><td>ES-92.07</td><td>Cathodic Protection of Onshore and Buried Pipe work</td></tr><tr><td>ES.99.01</td><td>Numbering System</td></tr><tr><td>ES-99.04</td><td>Final Documentation</td></tr></table>"
            ]
          },
          "metadata": {}
        },
        {
          "output_type": "stream",
          "name": "stdout",
          "text": [
            "parent: '3.0 PTT SPECIFICATIONS, STANDARD DRAWINGS' content: The term of “Drawings and Related Documents” shall mean to include, and not be limited to, workshop drawings and design calculations as well as all other relevant documents in detail related to fabrication, testing and inspection.\n",
            "parent: '3.0 PTT SPECIFICATIONS, STANDARD DRAWINGS' content: All drawings and related documents shall comply with engineering standard ES-99.001 Numbering system and ES-99.04 Final Document.\n",
            "parent: '3.0 PTT SPECIFICATIONS, STANDARD DRAWINGS' content: All Drawings and related documents are subject to review and comment by PTT /CONSULTANT. However, such review and comment by PTT /CONSULTANT does not in any way relieve CONTRACTOR of his responsibility to meet all requirements of the CONTRACT. Fabrication shall commence only after the drawings and related documents have been approved by the Third Party Inspector and comment received from PTT /CONSULTANT. In case of subcontracted is required before submission of the documents to PTT/ CONSULTANT.\n",
            "parent: '3.0 PTT SPECIFICATIONS, STANDARD DRAWINGS' content: CONTRACTOR shall ensure a clear and unequivocal correlation between the equipment drawings and the welding procedure specifications to be used for the manufacture of the single equipment items, when issuing the technical documents for approval.\n",
            "parent: '3.0 PTT SPECIFICATIONS, STANDARD DRAWINGS' content: 4.5 Welding symbols and other terms and definitions shall be in accordance with standard and sound engineering practice (like AWS Standards).\n",
            "parent: '3.0 PTT SPECIFICATIONS, STANDARD DRAWINGS' content: For vessels fabricated and/or assembled at SITE. CONTRACTOR shall submit for such fabrications and assemblies the instructions, specification\n",
            "parent: 'ES-20.02 PAGE 4 OF 28' content: 4.0 DRAWINGS AND RELATED DOCUMENTS\n",
            "parent: '4.0 DRAWINGS AND RELATED DOCUMENTS' content: ES-20.02-D2.docx\n",
            "parent: 'ES-20.02 PAGE 4 OF 28' content: QUALITY REQUIREMENTS FOR PRESSURE VESSEL\n",
            "  \n",
            "PTT PUBLIC CO., LTD ENGINEERING STANDARD\n",
            "ES-20.02 PAGE 5 OF 28\n",
            "parent: 'ES-20.02 PAGE 5 OF 28' content: and sketches.\n",
            "parent: 'ES-20.02 PAGE 5 OF 28' content: Pressure vessels shall be designed and fabricated in accordance with ASME Boiler and Pressure Vessel Code section VIII, Division 2. The Division 1 may be selected if all other additional requirements as specified by Owner and/or indicated on datasheet.\n",
            "parent: 'ES-20.02 PAGE 5 OF 28' content: The ASME Code symbol stamp shall be applied hen required by Local Regulation or at the OWNER’s request.\n",
            "parent: 'ES-20.02 PAGE 5 OF 28' content: 5.1 All materials shall be new and meet the requirement of Code and applicable fabrication standard.\n",
            "parent: 'ES-20.02 PAGE 5 OF 28' content: All pressure retaining materials and materials welded on to pressure- retaining part shall have Carbon 0.22% maximum in case of carbon steel and 0.19% in case of C-Mo and C-Cr-Mo steels.\n",
            "parent: 'ES-20.02 PAGE 5 OF 28' content: In exceptional cases carbon steels with carbon above 0.22% Carbon content may be up to 0.25 % provided % Carbon plus one sixth of %Manganese does not exceed 0.40% for all cases, except SA105,for which % Carbon plus one sixth of %Manganese may be up to 0.45%.\n",
            "parent: 'ES-20.02 PAGE 5 OF 28' content: 5.3\n",
            "parent: 'ES-20.02 PAGE 5 OF 28' content: Sour service (SG) or Amine service requirement For equipment specified as in Sour service or Amine service, the following requirement shall apply.\n",
            "parent: 'ES-20.02 PAGE 5 OF 28' content: 5.3.1 Pressure parts of carbon steel equipment shall be manufactured from fine- grained and normalized condition\n",
            "parent: 'ES-20.02 PAGE 5 OF 28' content: 5.3.2 Carbon content shall not exceed 0.22%, except forgings which shall be limited to 0.25 % maximum\n",
            "parent: 'ES-20.02 PAGE 5 OF 28' content: Carbon equivalent (CE) shall not exceed 0.40 as formula below ;\n",
            "parent: 'ES-20.02 PAGE 5 OF 28' content: % Carbon plus one sixth of %Manganese does not exceed 0.40%\n"
          ]
        },
        {
          "output_type": "display_data",
          "data": {
            "text/plain": [
              "<IPython.core.display.HTML object>"
            ],
            "text/html": [
              "<table><tr><td>The chemical</td><td>composition,</td><td>product analysis shall be limited as follows</td></tr><tr><td>% Manganese</td><td>= -</td><td>1.30 maximum</td></tr><tr><td>% Phosphorus</td><td></td><td>0.025 maximum</td></tr><tr><td>% Sulphur</td><td>non</td><td>0.003 maximum</td></tr><tr><td>% V+Nb</td><td>1}</td><td>0.03 maximum</td></tr></table>"
            ]
          },
          "metadata": {}
        },
        {
          "output_type": "stream",
          "name": "stdout",
          "text": [
            "parent: 'ES-20.02 PAGE 5 OF 28' content: 5.3.3 Hardness of weld metal, parent metal and heat-affected zone shall be 225 (average) max and 240 (single location) max.\n",
            "parent: 'ES-20.02 PAGE 5 OF 28' content: Above-mentioned hardness values shall be based on HV 10 measurement on a machined and ground cross-section of procedure qualification test plates and shall be BHN hardness values in case of production welds or production materials.\n",
            "parent: 'ES-20.02 PAGE 5 OF 28' content: 5.0 MATERIALS\n",
            "parent: '5.0 MATERIALS' content: ES-20.02-D2.docx\n",
            "parent: 'ES-20.02 PAGE 5 OF 28' content: QUALITY REQUIREMENTS FOR PRESSURE VESSEL\n",
            "  \n",
            "PTT PUBLIC CO., LTD ENGINEERING STANDARD\n",
            "ES-20.02 PAGE 6 OF 28\n",
            "parent: 'ES-20.02 PAGE 6 OF 28' content: 5.3.4 Pressure parts, welded attachments, internal (including bolting) shall fully comply with the requirement of NACE MR 0175.\n",
            "parent: 'ES-20.02 PAGE 6 OF 28' content: 5.3.5 Plate furnished by the supplier shall meet the requirement to SA 516. In addition, HIC resistant material requirements shall be met.\n",
            "parent: 'ES-20.02 PAGE 6 OF 28' content: For non-pressure-retaining parts to be welded directly to the pressure- retaining parts and shall be same as the material for the pressure-retaining parts and shall met the requirement of paragraph 5.2, 5.3 above, as applicable. This is also valid for fixtures and auxiliary supports.\n",
            "parent: 'ES-20.02 PAGE 6 OF 28' content: The skirt support of pressure vessels with design temperature above 343°C or below -10°C, 1000 mm length from the attached pressure-retaining part for the vertical vessels shall be of the same material as the attached pressure- retaining part.\n",
            "parent: 'ES-20.02 PAGE 6 OF 28' content: For pressure vessels with design temperature -10°C and above up to and including 343°C the saddle parts and the bracket parts other than those covered under para 5.4 above and the skirt plates other than those covered under para 5.4 above and beyond 500 mm away from the attached pressure part shall be SA 285 Gr C.\n",
            "parent: 'ES-20.02 PAGE 6 OF 28' content: Alternative material specification to those may be proposed but require written approval form PTT / CONTRACTOR. The alternative must provide equal or better chemistry, mechanical properties, weldability and notch toughness.\n",
            "parent: 'ES-20.02 PAGE 6 OF 28' content: All pressure flanges including blind flanges shall be of forged material. Flanges made from plate are not acceptable.\n",
            "parent: 'ES-20.02 PAGE 6 OF 28' content: 5.9 All clad materials shall be welding overlay type. Cladding in accordance with ASME SA 263 / SA 264 / SA265 is not permitted.\n",
            "parent: 'ES-20.02 PAGE 6 OF 28' content: In case of clad materials, which during and/or after fabrication need post- weld heat treatment and which have clad material of 18 Cr/8 Ni type stainless steel, the clad material shall have a maximum carbon content of 0.03% or shall be stabilized grade (with Ti or Nb) and the PWHT temperature shall be limited to 550°C.\n",
            "parent: 'ES-20.02 PAGE 6 OF 28' content: In case of clad materials, which during and/or after fabrication need post- weld heat treatment and which have clad material of 13Cr type stainless steel, the material shall be properly heated and cooled to avoid embattlement in clad material.\n",
            "parent: 'ES-20.02 PAGE 6 OF 28' content: 5.12 Roll cladding or explosion cladding is not permitted.\n",
            "parent: 'ES-20.02 PAGE 6 OF 28' content: 5.13 No credit is to be given for the cladding thickness in the design calculations.\n",
            "parent: 'ES-20.02 PAGE 6 OF 28' content: 5.14 For clad materials, minimum thickness of cladding is the thickness of cladding as measured from the surface exposed to the service medium, over which\n",
            "parent: 'ES-20.02 PAGE 6 OF 28' content: ES-20.02-D2.docx\n",
            "parent: 'ES-20.02 PAGE 6 OF 28' content: QUALITY REQUIREMENTS FOR PRESSURE VESSEL\n",
            "  \n",
            "PTT PUBLIC CO., LTD ENGINEERING STANDARD\n",
            "ES-20.02 PAGE 7 OF 28\n",
            "parent: 'ES-20.02 PAGE 7 OF 28' content: the cladding material shall possess all the physical and chemical properties as specified for the cladding material or for the weld metal as the case may be. Depending on the cladding technique, the actual thickness of the cladding is to be more than the specified minimum thickness (eg. Weld overlay).\n",
            "parent: 'ES-20.02 PAGE 7 OF 28' content: 5.15 ASTM A 285 Gr. C may be used for drums up to 15 mm new thickness.\n",
            "parent: 'ES-20.02 PAGE 7 OF 28' content: 5.16 Asbestos in any form shall not be used.\n",
            "parent: 'ES-20.02 PAGE 7 OF 28' content: 5.17 Carbon and C-Mn steel shall be supplied in the as-rolled condition. For sour and amine service all carbon steel and C-Mn steel shall be supplied in normalized condition.\n",
            "parent: 'ES-20.02 PAGE 7 OF 28' content: 5.18 Austenitic stainless steel bolts, if not in contact with the operating fluid, shall be solutionized and strain-hardened to class 2 requirements of SA 193.\n",
            "parent: 'ES-20.02 PAGE 7 OF 28' content: In case of ring joint gaskets, the Brinell hardness of the ring joint shall be at least 30 points lower than the flange groove hardness.\n",
            "parent: 'ES-20.02 PAGE 7 OF 28' content: 5.20 Mill certificates with all test results therein shall be furnished by contractor for main pressure-retaining parts and for such other loaded parts which have been dimensioned to specific loading conditions, eg. Skirt of a column.\n",
            "parent: 'ES-20.02 PAGE 7 OF 28' content: 5.21 Mechanical tests on material for equipment which is to be subject to PWHT shall be carried out using coupons in the as- supplied and simulated PWHT conditions. Simulated heat treatment times shall include contingency for in-situ heat treatments for future repair or modifications to the equipment by PTT.\n",
            "parent: 'ES-20.02 PAGE 7 OF 28' content: 6.1.1 Unless otherwise specified by Owner, all connections shall be flanged with through studs. All nozzle attachment welds (category “D”) shall be full- penetration welds.\n",
            "parent: 'ES-20.02 PAGE 7 OF 28' content: Flanges used for nozzle shall be in accordance with ASME B16.5 for nozzle size through NPS24 and ASME B16.47 Series B or ASME Section VII design for nozzle size through NPS26 through NPS 60, as specified by OWNER. Series A is permitted when required to flange to equipment supplied with Series A flange.\n",
            "parent: 'ES-20.02 PAGE 7 OF 28' content: Flanges facing used for nozzle shall be accordance with ASME B16.5. Flange shall have raised face unless otherwise.\n",
            "parent: 'ES-20.02 PAGE 7 OF 28' content: If shell courses have different thickness, the inside diameter shall be constant unless otherwise specified by OWNER.\n",
            "parent: 'ES-20.02 PAGE 7 OF 28' content: The minimum distance between two longitudinal seams in one course shall be 200 mm or five times the wall thickness, whichever is the larger, as measured between the toe of each weld. The minimum distance between the staggered\n",
            "parent: 'ES-20.02 PAGE 7 OF 28' content: 6.0 FABRICATION\n",
            "parent: 'ES-20.02 PAGE 7 OF 28' content: 6.1 General\n",
            "parent: '6.1 General' content: ES-20.02-D2.docx\n",
            "QUALITY REQUIREMENTS FOR PRESSURE VESSEL\n",
            "  \n",
            "PTT PUBLIC CO., LTD ENGINEERING STANDARD\n",
            "ES-20.02 PAGE 8 OF 28\n",
            "parent: 'ES-20.02 PAGE 8 OF 28' content: longitudinal seams of two adjacent courses shall be 200 mm or five time wall thickness, whichever is the grater. However, where this cannot be achieved, the last 300 mm of the adjacent longitudinal seams shall be subjected to 100% examination in accordance with the NDE specified for a construction category 1 vessel in ASME sec VIII Div I\n",
            "parent: 'ES-20.02 PAGE 8 OF 28' content: Longitudinal and circumferential welded seams shall be kept out of the internal welds in so far as practical, and shall be so located that they can easily be inspected with internals in place.\n",
            "parent: 'ES-20.02 PAGE 8 OF 28' content: 6.1.3 No openings such as nozzles shall be located to pass through a weld. Such openings shall have their boundaries at least one OD away from the adjacent welds.\n",
            "parent: 'ES-20.02 PAGE 8 OF 28' content: No weld shall be covered/ concealed by external attachments like pads.\n",
            "parent: 'ES-20.02 PAGE 8 OF 28' content: 6.1.4 Unless otherwise specified by OWNER, head shall be ellipsoidal. A formed head shall be made of single plate. CONTRACTOR shall submit forming procedure of clad steel to PTT/CONSULTANT for approval.\n",
            "parent: 'ES-20.02 PAGE 8 OF 28' content: 6.1.5 Dished ends formed from blanks made out of welded seam shall be 100 % radiographed.\n",
            "parent: 'ES-20.02 PAGE 8 OF 28' content: 6.1.6 When temporary attachments are required during the forming work, they\n",
            "parent: 'ES-20.02 PAGE 8 OF 28' content: shall be welded to the shell plate using the same welding procedures as for the main seams. After removing these attachments, the surface shall be ground flush and examined by either magnetic particle or liquid penetrant method.\n",
            "parent: 'ES-20.02 PAGE 8 OF 28' content: Fabrication temporary attachment shall not be welded to knuckles of head and conical section.\n",
            "parent: 'ES-20.02 PAGE 8 OF 28' content: If reinforcement pads for nozzles are made out of two segments, the segments shall be welded at a location away from the vessel shell and the weld shall not run parallel to vessel axis.\n",
            "parent: 'ES-20.02 PAGE 8 OF 28' content: 6.1.9 Using of flame cutting instead of drilling for nozzle including anchor bolt holes is not permitted.\n",
            "parent: 'ES-20.02 PAGE 8 OF 28' content: 6.1.10 The gasket seating surfaces on girth flanges of equipment shall be machined to final smoothness and dimensions after PWHT of the equipment.\n",
            "parent: 'ES-20.02 PAGE 8 OF 28' content: 6.1.11 Unless otherwise noted, gasket surface shall have a finish of 125 ~250 RMS.\n",
            "parent: 'ES-20.02 PAGE 8 OF 28' content: 6.1.12 All permanently attached backing rings on aluminum welds shall be seal-\n",
            "parent: 'ES-20.02 PAGE 8 OF 28' content: welded (not only tack-welded) on the upstream side in order to provide against the danger of amalgamating due to mercury residues in the fluid.\n",
            "parent: 'ES-20.02 PAGE 8 OF 28' content: ES-20.02-D2.docx\n",
            "parent: 'ES-20.02 PAGE 8 OF 28' content: QUALITY REQUIREMENTS FOR PRESSURE VESSEL\n",
            "  \n",
            "PTT PUBLIC CO., LTD ENGINEERING STANDARD\n",
            "ES-20.02 PAGE 9 OF 28\n",
            "parent: 'ES-20.02 PAGE 9 OF 28' content: 6.1.13 Loading\n",
            "parent: 'ES-20.02 PAGE 9 OF 28' content: External loading shall be specified on the data/requisition sheets.\n",
            "parent: 'ES-20.02 PAGE 9 OF 28' content: All vertical vessels shall be provided with lifting trunions, attached by full penetration welds, or lifting lugs as specified on the data/requisition sheets. The tail end vertical vessels that have a mass greater than 20 tonnes shall be provided with tailing lug (or lugs.)\n",
            "parent: 'ES-20.02 PAGE 9 OF 28' content: Lifting lugs and trunnions shall be designed for a total load of 1.5 times the lifted weight of the equipment to allow for dynamic effects etc., except lifting lugs and trunnions on vessels liable to be lifted from an offshore barge, etc., which shall be designed for a total load of 3 times the lifted weight.\n",
            "parent: 'ES-20.02 PAGE 9 OF 28' content: If davits are to be provided for servicing components having a mass greater than 25 kg, mounted at the top or attached to the sides of columns higher than 20 m, this shall be specified on the data/requisition sheets.\n",
            "parent: 'ES-20.02 PAGE 9 OF 28' content: 6.1.14 The minimum distance between the edge of any attachment of a pressure part (e.g. a nozzle) to the edge of another pressure weld of the vessel shall be 50 mm or twice the thickness of the pressure part, whichever is the grater. Similarly , the minimum distance between the edge of a non- pressure attached weld to the edge of a pressure weld of the vessel shall also be 50 mm or twice the thickness of the pressure part, whichever is the greater.\n",
            "parent: 'ES-20.02 PAGE 9 OF 28' content: However, if this is not possible the attachment weld shall cross the pressure weld completely by length of at least 50 mm or twice the wall thickness (whichever is the greater) in order to avoid stress concentration. Prior to making the attachment weld, the adjacent pressure weld shall in the area where the attachment weld will cross, be subjected to the NDE specified for a construction category 1 vessel in ASME section VIII Div I\n",
            "parent: 'ES-20.02 PAGE 9 OF 28' content: 6.1.15. Reinforcement pad thickness shall not exceed 40 mm or the as-built shell thickness, whichever is the lesser.\n",
            "parent: 'ES-20.02 PAGE 9 OF 28' content: The required thickness of an integrally reinforced branch shall not be greater than twice the vessel wall thickness at the location of the attachment.\n",
            "parent: 'ES-20.02 PAGE 9 OF 28' content: 6.1.16 Flanges shall comply with ASME B16.5 or ASME B16.47 series B, facing finish shall comply with ASME B16.5. Unless otherwise approved by Principal, only raised-face (narrow-faced) flanges shall be used.\n",
            "parent: 'ES-20.02 PAGE 9 OF 28' content: Welding neck flanges shall be used for vessels.\n",
            "parent: 'ES-20.02 PAGE 9 OF 28' content: 6.1.17 Davit or hinge shall provide for all inspection/maintenance openings 12” up to and including 30”.\n",
            "parent: 'ES-20.02 PAGE 9 OF 28' content: 6.1.18 The nominal minimum diameter for inspection opening (handholes) is 6”\n",
            "parent: 'ES-20.02 PAGE 9 OF 28' content: 6.1.19 All vessel supports shall be provided with at least earthing lug in accordance with ES-20.01.\n",
            "parent: 'ES-20.02 PAGE 9 OF 28' content: 6.1.20 Continuous liquid outlets on column and vessels shall be provided with a\n",
            "parent: 'ES-20.02 PAGE 9 OF 28' content: vortex breaker, and in the following cases internally extended vortex breakers shall be used: - in fouling service; - for hydrocarbon liquid outlet of separators where the liquid is separated\n",
            "parent: 'ES-20.02 PAGE 9 OF 28' content: ES-20.02-D2.docx\n",
            "parent: 'ES-20.02 PAGE 9 OF 28' content: QUALITY REQUIREMENTS FOR PRESSURE VESSEL\n",
            "  \n",
            "PTT PUBLIC CO., LTD ENGINEERING STANDARD\n",
            "ES-20.02 PAGE 10 OF 28\n",
            "parent: 'ES-20.02 PAGE 10 OF 28' content: from water or aqueous solutions, except where this would give rise to corrosion problems in the bottom.\n",
            "parent: 'ES-20.02 PAGE 10 OF 28' content: 6.2.1 All Welding Procedure Specifications (WPS) and Procedure Qualification Records (PQR) shall be submitted to PTT / CONSULTANT for review prior to commencement of production weld. PQR shall include the additional tests results when these tests are specified by Codes and this specification. Impact tests for welding procedure qualification shall be witnessed by the authorized third-party inspection agency.\n",
            "parent: 'ES-20.02 PAGE 10 OF 28' content: 6.2.2 Welders shall be initially qualified by bend tests in addition to radiography. Welder’s performance qualification shall be in form QW-484 of ASME section IX (see also para 7.7.2).\n",
            "parent: 'ES-20.02 PAGE 10 OF 28' content: 6.2.3 Fusion arc process SAW (submerged arc welding), SMAW (shielded metal arc welding), and GTAW (gas tungsten arc welding) are permitted. Electro-slag welding is permitted only for welds which will be subject to a normalizing heat treatment and 100% radiography.\n",
            "parent: 'ES-20.02 PAGE 10 OF 28' content: 6.2.4 Pressure-holding seams shall normally be full-penetration, double- welded butt joints. Single side welded butt joints which ensure full penetration may be used, where double sided weld butt joints are impractical.\n",
            "parent: 'ES-20.02 PAGE 10 OF 28' content: 6.2.5 Welding procedures shall be selected to minimize the residual stress insofar as practical.\n",
            "parent: 'ES-20.02 PAGE 10 OF 28' content: 6.2.6 All welds shall be immediately stamp after completion of welding provided with the welder’s identification. For such cases where stamping will be deleterious to the parent material (thin materials, notch-sensitive material, etc.) engraving shall be done. In order to avoid possibility of forgotten stampings, it is recommended that the welder provide his identification marking near the weld just before commencing welding work.\n",
            "parent: 'ES-20.02 PAGE 10 OF 28' content: 6.2.7 No more peening than is necessary to clean slag from the weld shall be permissible.\n",
            "parent: 'ES-20.02 PAGE 10 OF 28' content: 6.2.8 Permanent backing strips are not permitted. Temporary backing strips shall have the same chemical composition as the base metal.\n",
            "parent: 'ES-20.02 PAGE 10 OF 28' content: In all cases, filler materials shall have a similar analysis and properties as the parent materials. Any deviation from this requirement needs the written consent of PTT /CONSULTANT. This requirement holds good for tack welds, too.\n",
            "parent: 'ES-20.02 PAGE 10 OF 28' content: Fillers used in production welds shall be the same used for welding procedure qualification. For submerged arc welding the wire-flux combination used for production welds shall be the same as the one\n",
            "parent: 'ES-20.02 PAGE 10 OF 28' content: 6.2 Welding\n",
            "parent: '6.2 Welding' content: ES-20.02-D2.docx\n",
            "parent: 'ES-20.02 PAGE 10 OF 28' content: QUALITY REQUIREMENTS FOR PRESSURE VESSEL\n",
            "  \n",
            "PTT PUBLIC CO., LTD ENGINEERING STANDARD\n",
            "ES-20.02 PAGE 11 OF 28\n",
            "parent: 'ES-20.02 PAGE 11 OF 28' content: employed for the welding procedure qualification.\n",
            "parent: 'ES-20.02 PAGE 11 OF 28' content: 6.2.11 Welding materials like electrodes, fillers and fluxes shall be properly stored and shall be properly heated/dried before use.\n",
            "parent: 'ES-20.02 PAGE 11 OF 28' content: 6.2.12 Welds that are produced under violation of para 6.2.9 above or by using unapproved procedures shall be subject to complete removal.\n",
            "parent: 'ES-20.02 PAGE 11 OF 28' content: 6.2.13 Unacceptable discontinuities shall be completely removed by chipping, gauging, grinding, or other methods (suitable for the type of material being repaired) to clean, sound metal, and the excavated area shall be examined by magnetic particle or liquid penetrant methods to assure complete removal of defects.\n",
            "parent: 'ES-20.02 PAGE 11 OF 28' content: Repairs to correct weld defects shall be made using the same welding procedure specification used for the original weld or any other previously approved welding procedure specifications.\n",
            "parent: 'ES-20.02 PAGE 11 OF 28' content: 6.2.15 The repaired areas shall be re-examined using the same inspection procedures by which the defect was originally detected.\n",
            "parent: 'ES-20.02 PAGE 11 OF 28' content: 6.2.16 Any weld repairs of solid material (plate, forging, pipe etc.) is not permitted.\n",
            "parent: 'ES-20.02 PAGE 11 OF 28' content: 6.2.17 All site-welding activities shall be done under proper protection against weather conditions.\n",
            "parent: 'ES-20.02 PAGE 11 OF 28' content: Continuous fillet welds shall be used for all internal structures, supports and fittings to welded to the vessel wall.\n",
            "parent: 'ES-20.02 PAGE 11 OF 28' content: 6.3 Post weld Heat Treatment( PWHT)\n",
            "parent: '6.3 Post weld Heat Treatment( PWHT)' content: 6.3.1 PWHT shall not be commenced unless and until all non-destructive testing has been successfully completed. PWHT shall be performed prior final examination.\n",
            "parent: '6.3 Post weld Heat Treatment( PWHT)' content: 6.3.2 No welding is permissible on the equipment after completion of post weld heat treatment.\n",
            "parent: '6.3 Post weld Heat Treatment( PWHT)' content: 6.3.3 All carbon steel and C- Mn steels shall be subject to PHWT where “Sour service” or “Amine service” is indicated.\n",
            "parent: '6.3 Post weld Heat Treatment( PWHT)' content: 6.3.4 A continuous record of temperature shall be made on recorder charts.\n",
            "parent: '6.3 Post weld Heat Treatment( PWHT)' content: 6.3.5 The holding temperature for post weld heat treatment or stress relief temperature shall be :\n",
            "parent: 'ES-20.02 PAGE 11 OF 28' content: Material type Holding temp(°c) Time at temperature (Minutes)\n",
            "parent: 'ES-20.02 PAGE 11 OF 28' content: Minimum\n",
            "parent: 'Minimum' content: ES-20.02-D2.docx\n",
            "QUALITY REQUIREMENTS FOR PRESSURE VESSEL\n",
            "  \n",
            "PTT PUBLIC CO., LTD ENGINEERING STANDARD\n",
            "ES-20.02 PAGE 12 OF 28\n"
          ]
        },
        {
          "output_type": "display_data",
          "data": {
            "text/plain": [
              "<IPython.core.display.HTML object>"
            ],
            "text/html": [
              "<table><thead><th>Carbon steel</th><th>600+/-20</th><th>60</th></thead><tr><td>1.25Cr-0.5Mo</td><td>660+/-20</td><td>120</td></tr><tr><td>2.25Cr-0.5Mo</td><td>715+/-25</td><td>120</td></tr><tr><td>5Cr-0.5Mo or 9Cr-1Mo</td><td>730+/-30</td><td>120</td></tr><tr><td>3.5Ni</td><td>615+/-15</td><td>60</td></tr></table>"
            ]
          },
          "metadata": {}
        },
        {
          "output_type": "stream",
          "name": "stdout",
          "text": [
            "parent: 'ES-20.02 PAGE 12 OF 28' content: 6.3.6 When clad steel or dissimilar welded parts are heat-treated, the heat- treating procedure shall be submitted for PTT /CONSULTANT approval.\n",
            "parent: 'ES-20.02 PAGE 12 OF 28' content: Austenitic stainless steel shall not be subject to PWHT or stabilization Heat treatment without approval from PTT / CONSULTANT.\n",
            "parent: 'ES-20.02 PAGE 12 OF 28' content: 6.3.8 Thermocouples shall be attached every 4.6 meters both longitudinally and circumferentially at the top, bottom and centre of the vessel and at each head.\n",
            "parent: 'ES-20.02 PAGE 12 OF 28' content: 6.3.9 Plates, seamless heads, parts of built-up heads, and similar pressure-holding parts subject to cold or hot bending or forming or forging shall be heat- treated as required by table 1. Annealing, normalizing, and tempering required by table 1 shall be performed in accordance with table 2.\n",
            "parent: 'ES-20.02 PAGE 12 OF 28' content: ES-20.02-D2.docx\n",
            "QUALITY REQUIREMENTS FOR PRESSURE VESSEL\n",
            "  \n",
            "PTT PUBLIC CO., LTD ENGINEERING STANDARD\n",
            "ES-20.02 PAGE 13 OF 28\n",
            "parent: 'ES-20.02 PAGE 13 OF 28' content: Table 1 Heat Treatment and Test Requirement of Dished End\n"
          ]
        },
        {
          "output_type": "display_data",
          "data": {
            "text/plain": [
              "<IPython.core.display.HTML object>"
            ],
            "text/html": [
              "<table><thead><th></th><th>t\n",
              "s\n",
              "e\n",
              "T\n",
              " t\n",
              "n\n",
              "e\n",
              "m\n",
              "e\n",
              "r\n",
              "i\n",
              "u\n",
              "q\n",
              "e\n",
              "R</th><th>No extra test i\n",
              "y\n",
              "p\n",
              "r\n",
              "a\n",
              "h\n",
              "C\n",
              " t\n",
              "c\n",
              "a\n",
              "p\n",
              "m\n",
              " test i\n",
              "y\n",
              "p\n",
              "r\n",
              "a\n",
              "h\n",
              "C\n",
              " t\n",
              "c\n",
              "a\n",
              "p\n",
              "m\n",
              " test</th><th>1 per each plate *2</th><th>1 per each plate per heat treatm: Lot 3\n",
              "*\n",
              " 5  \n",
              "  \n",
              "  \n",
              "  \n",
              "  \n",
              "  \n",
              "  \n",
              "  \n",
              " t\n",
              "o\n",
              " l</th><th>1 per each dished end</th><th>1 por cach plato por heat treatment lot *3  \n",
              "  \n",
              "  \n",
              "  \n",
              "  \n",
              "  \n",
              "  \n",
              "  \n",
              " l</th><th>1 per each dished end</th><th>1 per each plate per heat treatment lot *3  \n",
              "  \n",
              "  \n",
              "  \n",
              "  \n",
              "  \n",
              "  \n",
              "  \n",
              " l</th></thead><tr><td>Heat Treatment</td><td>Due to Service</td><td>Required for - alkaline *1 p\n",
              "m\n",
              "e\n",
              "t\n",
              " &gt;80°C . SG, BWN 5\n",
              "4\n",
              "2\n",
              "&gt;\n",
              "  \n",
              "  \n",
              "  \n",
              "  \n",
              "  \n",
              "  \n",
              " e\n",
              "n\n",
              " i\n",
              "l\n",
              "a\n",
              "k\n",
              "l\n",
              "a</td><td>- min i B  \n",
              "  \n",
              " i</td><td>0\n",
              "3\n",
              "2\n",
              "&gt;</td><td></td><td rowspan=\"3\">g\n",
              "n\n",
              "i\n",
              "z\n",
              "i\n",
              "n\n",
              "o\n",
              "i\n",
              "t\n",
              "u\n",
              "o\n",
              "s</td><td>*4</td><td>d\n",
              "e\n",
              "r\n",
              "i\n",
              "u\n",
              "q\n",
              "e\n",
              "r\n",
              " tempering</td></tr><tr><td></td><td>Dueto s\n",
              "e\n",
              "n\n",
              "k\n",
              "c\n",
              "i\n",
              "h\n",
              "T</td><td>As per *1 6\n",
              "5\n",
              "-\n",
              "S\n",
              "C\n",
              "U\n",
              "  \n",
              "  \n",
              "  \n",
              " s</td><td>as per *1 6\n",
              "5\n",
              "-\n",
              "S\n",
              "C\n",
              "U</td><td>g\n",
              "n\n",
              "i\n",
              "z\n",
              "i\n",
              "n\n",
              "o\n",
              "i\n",
              "t\n",
              "u\n",
              "o\n",
              "S\n",
              " When BHN After forming  \n",
              "  \n",
              "  \n",
              "  \n",
              " r\n",
              "e\n",
              "t\n",
              "f\n",
              " A</td><td>Not d\n",
              "e\n",
              "r\n",
              "i\n",
              "u\n",
              "q\n",
              "e\n",
              "r</td><td></td><td>Not d\n",
              "e\n",
              "r\n",
              "i\n",
              "u\n",
              "q\n",
              "e\n",
              "r</td><td>ing or, i ing and</td></tr><tr><td></td><td>o\n",
              "t\n",
              "e\n",
              "u\n",
              "D\n",
              " g\n",
              "n\n",
              "m\n",
              "r\n",
              "o\n",
              "F</td><td>As per #1 9\n",
              "7\n",
              "-\n",
              "S\n",
              "C\n",
              "U</td><td>s per *1 9\n",
              "7\n",
              "-\n",
              "S\n",
              "C\n",
              "U</td><td></td><td></td><td></td><td></td><td>Normal Normali</td></tr><tr><td></td><td>Mater</td><td>cs CS Temp &lt;-10°C*e 3% Ni  \n",
              "  \n",
              "  \n",
              "  \n",
              "  \n",
              "  \n",
              "  \n",
              "  \n",
              " i</td><td>CMo \"8  \n",
              "  \n",
              "  \n",
              " -</td><td>ss</td><td>ss</td><td>ss</td><td>S, CS p\n",
              "m\n",
              "e\n",
              "t\n",
              " &lt;-10°C ½\n",
              "3\n",
              " Ni o\n",
              "M\n",
              "C\n",
              "  \n",
              "  \n",
              "  \n",
              "  \n",
              "  \n",
              "  \n",
              " ,\n",
              "  \n",
              "  \n",
              "  \n",
              " i\n",
              " N</td><td>S\n",
              "C\n",
              " CS p\n",
              "m\n",
              "e\n",
              "t\n",
              " &lt;1 3%Ni o\n",
              "M\n",
              "C\n",
              "  \n",
              "  \n",
              "  \n",
              "  \n",
              "  \n",
              " -\n",
              "  \n",
              "  \n",
              " ,\n",
              "  \n",
              "  \n",
              " i</td></tr><tr><td></td><td>g\n",
              "n\n",
              "m\n",
              "r\n",
              "o\n",
              "F\n",
              " *6</td><td>d\n",
              "o\n",
              "C\n",
              " #7  \n",
              "  \n",
              "  \n",
              " l</td><td></td><td></td><td>Hot Forming temp 900- 1,050 °C</td><td>Forming tomp &lt;800 °C</td><td>Forming temp 850 1,050 °C</td><td>g\n",
              "n\n",
              "m\n",
              "r\n",
              "o\n",
              "F\n",
              " p\n",
              "m\n",
              "e\n",
              "t\n",
              " &lt;850 °C</td></tr></table>"
            ]
          },
          "metadata": {}
        },
        {
          "output_type": "stream",
          "name": "stdout",
          "text": [
            "parent: 'ES-20.02 PAGE 13 OF 28' content: ES-20.02-D2.docx\n",
            "parent: 'ES-20.02 PAGE 13 OF 28' content: QUALITY REQUIREMENTS FOR PRESSURE VESSEL\n",
            "  \n",
            "PTT PUBLIC CO., LTD ENGINEERING STANDARD\n",
            "ES-20.02 PAGE 14 OF 28\n",
            "parent: 'ES-20.02 PAGE 14 OF 28' content: Remarks\n",
            "parent: 'ES-20.02 PAGE 14 OF 28' content: *1: PWHT can be performed on the dished end after vessel assembly.\n",
            "parent: 'ES-20.02 PAGE 14 OF 28' content: *2: Simulation by mill can be representative of test.\n",
            "parent: 'ES-20.02 PAGE 14 OF 28' content: *3: When the dished ends from a plate are heat-treated in different lots and the records (charts) show good conformity with each other with regard to cooling rate (±15 °C) and to soaking temperature (±15 °C), such heat treatments can be deemed as one lot.\n",
            "parent: 'ES-20.02 PAGE 14 OF 28' content: *4: When normalizing and tempering are required to the base material, tempering shall be performed.\n",
            "parent: 'ES-20.02 PAGE 14 OF 28' content: *5: No test is required when dished ends are not heat-treated after forming.\n",
            "parent: 'ES-20.02 PAGE 14 OF 28' content: *6: Bending and forming are defined for ferritic materials as cold when the\n",
            "parent: 'ES-20.02 PAGE 14 OF 28' content: temperature is below the maximum temperature permitted by para 6.3.5, and hot when above 870°C; and for austenitic materials as cold when the temperature is 593°C or below, and as hot when over 593°C. Bending and forming shall not be performed on ferritic materials at temperatures between the maximum cold temperature and 870°C.\n",
            "parent: 'ES-20.02 PAGE 14 OF 28' content: *7: Pressure vessel formed parts having a ratio of thickness to local radius greater than 5% shall be stress-relieved prior to any subsequent operations.\n",
            "parent: 'ES-20.02 PAGE 14 OF 28' content: *8: See para 5.3 and 7.5.4 as regards hardness for “Sour Service.(SG)”\n",
            "parent: 'ES-20.02 PAGE 14 OF 28' content: ES-20.02-D2.docx\n",
            "QUALITY REQUIREMENTS FOR PRESSURE VESSEL\n",
            "  \n",
            "PTT PUBLIC CO., LTD ENGINEERING STANDARD\n",
            "parent: 'PTT PUBLIC CO., LTD ENGINEERING STANDARD' content: ES-20.02 PAGE 15 OF 28\n",
            "Table 2 Heat-Treating Requirements\n"
          ]
        },
        {
          "output_type": "display_data",
          "data": {
            "text/plain": [
              "<IPython.core.display.HTML object>"
            ],
            "text/html": [
              "<table><thead><th>Heat Treatmen</th><th>Type of Material</th><th>Soaking Temp (c</th><th>Holding Time (hour)</th><th>Method of Cooling</th></thead><tr><td rowspan=\"3\">Anneal</td><td>AISI Types 304 316, 321, and 347</td><td>1,040 - 1,100</td><td rowspan=\"3\">1 per 25 mm of thickness but not less than 1/2 1 per 25 mm of thickness but not less than 1</td><td rowspan=\"3\">Water Quench or Air blast</td></tr><tr><td></td><td>Incoloy</td><td>1,150 (1)</td><td></td><td></td></tr><tr><td></td><td>AIS| Type 310</td><td></td><td></td><td></td></tr><tr><td rowspan=\"2\">Normaliz e</td><td>C steel C% % Mo steel %2 t0 9 % CrMo steel</td><td>900 - 950</td><td rowspan=\"2\">1 per 25 mm of thickness but not less than 2</td><td rowspan=\"2\">Still air</td></tr><tr><td></td><td>2to 6 % Ni steel</td><td>820 - 845</td><td></td><td></td></tr><tr><td rowspan=\"2\">Temper</td><td>%2 t0 9 % CrMo steel</td><td>700 - 760</td><td rowspan=\"2\">1 per 25 mm of thickness but not less than 1</td><td>In furnace (2)</td></tr><tr><td></td><td>2to 6 % Ni steel</td><td>593 - 650</td><td></td><td>Still air</td></tr></table>"
            ]
          },
          "metadata": {}
        },
        {
          "output_type": "stream",
          "name": "stdout",
          "text": [
            "parent: 'Table 2 Heat-Treating Requirements' content: Notes :\n",
            "parent: 'Table 2 Heat-Treating Requirements' content: (1) The temperature range during heat treatments shall be + 0, + 30 oC.\n",
            "parent: 'Table 2 Heat-Treating Requirements' content: (2) After attaining the soaking temperature and maintaining the required holding time, the cooling time to 430oC shall not be less than 1 h.\n",
            "parent: 'Table 2 Heat-Treating Requirements' content: ES-20.02-D2.docx\n",
            "QUALITY REQUIREMENTS FOR PRESSURE VESSEL\n",
            "  \n",
            "PTT PUBLIC CO., LTD ENGINEERING STANDARD\n",
            "ES-20.02 PAGE 16 OF 28\n",
            "parent: 'ES-20.02 PAGE 16 OF 28' content: 7.0 TESTING AND INSPECTION\n",
            "parent: '7.0 TESTING AND INSPECTION' content: 7.1.1 PTT/ CONSULTANT reserves the right to inspect, to approve or reject the facilities, materials or CONTRACTOR or SUB-CONTRACTOR’s workmanship at any time.\n",
            "parent: '7.0 TESTING AND INSPECTION' content: 7.1.2 CONTRACTOR shall take full responsibility for examination in accordance with the requirement of ASME Code section VIII and this engineering standard and qualified personnel shall perform all examination.\n",
            "parent: '7.0 TESTING AND INSPECTION' content: 7.1.3 All non-destructive testing shall be conducted in accordance with the relevant article (s) of ASME Boiler and pressure vessel code, Section V.\n",
            "parent: 'ES-20.02 PAGE 16 OF 28' content: 7.2 Radiographic Examination\n",
            "parent: '7.2 Radiographic Examination' content: 7.2.1 RT procedures and techniques shall be in accordance with Article 2 of ASME Code section V\n",
            "parent: '7.2 Radiographic Examination' content: 7.2.2 Acceptance criteria shall be in accordance with ASME Code section VIII Div 1, UW-51 for full RT and UW-52 for Spot RT.\n",
            "parent: '7.2 Radiographic Examination' content: Spot radiography shall mean at least 10% coverage by total length of each concerned weld. However the welds to be examined by spot RT shall consist of:\n",
            "parent: '7.2 Radiographic Examination' content: a) All T- junction, At least one spot RT shall be taken from each longitudinal weld seam.\n",
            "parent: '7.2 Radiographic Examination' content: b) At least one exposure shall be taken of each welding process applied to the welded seams.\n",
            "parent: '7.2 Radiographic Examination' content: c) All category A and B seam passing under the reinforcing plate or vessel support, shall be fully examined for the entire hidden length plus a 50 mm each side prior attaching the pad plate or support.\n",
            "parent: '7.2 Radiographic Examination' content: 7.2.4 For clad equipment, radiography, if required, shall be done after completing the weld fully including weld overlay part.\n",
            "parent: '7.2 Radiographic Examination' content: 7.2.5 Radiographic film shall be fine grain, high definition, high contrast film.\n",
            "parent: '7.2 Radiographic Examination' content: 7.2.6 A report of RT examined shall be submitted as part of the manufacturer’s data book.\n",
            "parent: 'ES-20.02 PAGE 16 OF 28' content: 7.1 General\n",
            "parent: 'ES-20.02 PAGE 16 OF 28' content: 7.3 Ultrasonic Test\n",
            "parent: '7.3 Ultrasonic Test' content: ES-20.02-D2.docx\n",
            "parent: 'ES-20.02 PAGE 16 OF 28' content: QUALITY REQUIREMENTS FOR PRESSURE VESSEL\n",
            "  \n",
            "PTT PUBLIC CO., LTD ENGINEERING STANDARD\n",
            "ES-20.02 PAGE 17 OF 28\n",
            "parent: 'ES-20.02 PAGE 17 OF 28' content: 7.3.1 The procedure, calibration and techniques for UT of weldments shall be in accordance with ASME Code section V , Article 5\n",
            "parent: 'ES-20.02 PAGE 17 OF 28' content: 7.3.2 The acceptance criteria and report concerning the recording of result shall be in accordance with the requirement of ASME VIII Appendix 12.\n",
            "parent: 'ES-20.02 PAGE 17 OF 28' content: 7.4 Liquid Penetrant and Magnetic Particle Examination\n",
            "parent: '7.4 Liquid Penetrant and Magnetic Particle Examination' content: 7.4.1 PT, MT procedure shall be in accordance with the requirement and methods specified in article 6 and 7 of ASME section V respectively.\n",
            "parent: '7.4 Liquid Penetrant and Magnetic Particle Examination' content: 7.4.2 Evaluation of indication and acceptance criteria shall be in accordance with ASME Code section VIII Appendix 6 and 8\n",
            "parent: '7.4 Liquid Penetrant and Magnetic Particle Examination' content: 7.4.3 Weld overlay shall be 100% liquid penetrant tested.\n",
            "parent: '7.4 Liquid Penetrant and Magnetic Particle Examination' content: After completion of welding, all welds shall be visually inspected. In case of single welded joints, should a visual inspection on the rear side of the root be impossible/not done, radiography shall be adopted. In case of double-welded joints root fusion shall be investigated by liquid penetrant or magnetic particle examination, after back gauging.\n",
            "parent: '7.4 Liquid Penetrant and Magnetic Particle Examination' content: 7.5.2 All NDE shall be performed and evaluated by qualified personnel according to ASNT recommend practice SNT-TC-1A\n",
            "parent: '7.4 Liquid Penetrant and Magnetic Particle Examination' content: 7.5.3 PTT /CONSULTANT will accept only the NDE result after vessels have been post weld heat-treated, if required.\n",
            "parent: '7.4 Liquid Penetrant and Magnetic Particle Examination' content: 7.5.4 Sample of production weld overlay shall be taken to confirm chemical analysis to the required depth.\n",
            "parent: '7.4 Liquid Penetrant and Magnetic Particle Examination' content: 7.5.5 Surface defects such as arc strikes caused due to welding or magnetic particle examination shall be removed and the locations shall be tested for freedom from defects by liquid penetrate or magnetic particle examination.\n",
            "parent: '7.4 Liquid Penetrant and Magnetic Particle Examination' content: Impact tests on production test plates shall be witnessed by the Third-Party Inspector.\n",
            "parent: 'ES-20.02 PAGE 17 OF 28' content: 7.6 Leakage Test and Pressure Test\n",
            "parent: '7.6 Leakage Test and Pressure Test' content: 7.6.1 All reinforcement pads shall be provided with a ¼” NPT hole and the nozzle attachment weld shall be tested pneumatically at a pressure of a 1 bar(g).\n",
            "parent: '7.6 Leakage Test and Pressure Test' content: 7.6.2 The hydrostatic test temperature shall be a minimum of 15 ° C and not below Code recommendations for all vessels.\n",
            "parent: 'ES-20.02 PAGE 17 OF 28' content: 7.5 Miscellaneous\n",
            "parent: '7.5 Miscellaneous' content: ES-20.02-D2.docx\n",
            "QUALITY REQUIREMENTS FOR PRESSURE VESSEL\n",
            "  \n",
            "PTT PUBLIC CO., LTD ENGINEERING STANDARD\n",
            "ES-20.02 PAGE 18 OF 28\n",
            "parent: 'ES-20.02 PAGE 18 OF 28' content: 7.6.3 All vessels shall be hydrostatically tested in accordance with Code. The test pressure shall be shown on the shop drawing\n",
            "parent: 'ES-20.02 PAGE 18 OF 28' content: 7.6.4 If any weld of an equipment remains concealed, a gas leak test at test pressure equal to that for a pneumatic test shall be conducted in lieu of hydrostatic test for the concealed weld.\n",
            "parent: 'ES-20.02 PAGE 18 OF 28' content: 7.6.5 Hydrostatic testing shall be performed using clean potable water with a chloride content of max 50 ppm for stainless steels. In case this requirement cannot be fulfilled the equipment shall be drained completely and flushed with water fulfilling the above requirement of 50 ppm maximum of chlorides.\n",
            "parent: 'ES-20.02 PAGE 18 OF 28' content: 7.6.6 During hydrostatic tests, the test pressure shall be held for at least 1 hour before inspecting the welds for leakage. In case of pneumatic tests, the test pressure shall be maintained for at least ½ hour and then reduced to design pressure at which pressure the soapsuds test shall be done.\n",
            "parent: 'ES-20.02 PAGE 18 OF 28' content: 7.6.7 After final hydrostatic test all equipment shall be dried and cleaned in order to ensure freedom from dirt, oil, grease, etc.\n",
            "parent: 'ES-20.02 PAGE 18 OF 28' content: Service gaskets and bolting shall be used for hydrotest. New gaskets or ring joints shall be fitted where the joint has been disturbed during hydrotest.\n",
            "parent: 'ES-20.02 PAGE 18 OF 28' content: 7.7.1 If due to some reason, an equipment cannot be delivered in fully welded condition, the parts to be delivered shall be trial-assembled and hydrostatic tested in the shop. After successful completion of the pressure test in the shop, the trial assembly welds for the test shall be removed. The weld edges shall be re-prepared and tested for freedom from defects by liquid penetrant examination. After completion of the welding at the site, all site welds shall be fully examined by radiography and shall be subjected to a pressure test.\n",
            "parent: 'ES-20.02 PAGE 18 OF 28' content: For such cases as described under para 7.7.1 above, if the site welding is executed by the same manufacturers as of the delivered parts, separate welding procedure qualification is not required provided the intended procedure had been earlier approved by PTT / CONSULTANT for any other weld of the delivered part. However, welder’s performance qualifications shall be done afresh to take care of the site conditions. In case this welding is executed by another fabricator different from the manufacturer of the delivered parts, intended welding procedures shall be invariably qualified afresh on site and all welders shall be qualified on site under the site conditions.\n",
            "parent: 'ES-20.02 PAGE 18 OF 28' content: 7.7.3 Irrespective of the fabricator at the site for the welding of the\n",
            "parent: 'ES-20.02 PAGE 18 OF 28' content: 7.7 Special Cases\n",
            "parent: '7.7 Special Cases' content: ES-20.02-D2.docx\n",
            "parent: 'ES-20.02 PAGE 18 OF 28' content: QUALITY REQUIREMENTS FOR PRESSURE VESSEL\n",
            "  \n",
            "PTT PUBLIC CO., LTD ENGINEERING STANDARD\n",
            "ES-20.02 PAGE 19 OF 28\n",
            "parent: 'ES-20.02 PAGE 19 OF 28' content: equipment delivered in parts vide para 7.7.1 above, production test plates for such equipment that need impact test shall be welded at the site. This test plate requirement is in addition to the required test plates in case the welding procedure used at the site is the same as the one used for any other weld in the delivered part.\n",
            "parent: 'ES-20.02 PAGE 19 OF 28' content: 7.8 Inspection and Test Records\n",
            "parent: '7.8 Inspection and Test Records' content: 7.8.1 CONTRACTOR shall take responsibilities to complete the engineering, manufacturing, and inspection record for each equipment.\n",
            "parent: '7.8 Inspection and Test Records' content: 7.8.2 Approval of the records by the third party inspector shall not be considered as release of inspection.\n",
            "parent: '7.8 Inspection and Test Records' content: 7.8.3 Content of manufacturing data book shall be in compliance with the requirement of engineering standard ES-99.04\n",
            "parent: '7.8 Inspection and Test Records' content: 8.1 Marking in ink, oily paint or waterproof color shall be used. 8.2 Marking of vessels made of stainless steel, chloride content in paint or\n",
            "parent: '7.8 Inspection and Test Records' content: ink shall not exceed 15 ppm.\n",
            "parent: '7.8 Inspection and Test Records' content: 8.3 Vessels which have been stress relieved shall have warning printed\n",
            "parent: '7.8 Inspection and Test Records' content: on the outside of shell “HEAT TREATED VESSEL NO WELDING PERMITTED” in letter at least 100 mm high.\n",
            "parent: '7.8 Inspection and Test Records' content: 8.4 Vertical vessels shall have “0 degree” clearly marked by vertical yellow line\n",
            "parent: '7.8 Inspection and Test Records' content: 50 mm minimum wide. “Plant North” shall also be indicated in the similar way.\n",
            "parent: '7.8 Inspection and Test Records' content: 8.5 Bolts and nuts including spare shall be marked with the material symbol with the carved stamp in accordance with table below. Depth of stamp shall not exceed 1 mm.\n"
          ]
        },
        {
          "output_type": "display_data",
          "data": {
            "text/plain": [
              "<IPython.core.display.HTML object>"
            ],
            "text/html": [
              "<table><thead><th>Material</th><th>Marking Symbol</th><th>Material</th><th>Marking Symbol</th></thead><tr><td>SS41</td><td></td><td>A193 GrB5</td><td>B5</td></tr><tr><td>S25C</td><td>25¢</td><td>A193 GrB6</td><td>B6</td></tr><tr><td>S35C</td><td>35C</td><td>A193 GrB7</td><td>B7</td></tr><tr><td>S45C</td><td>45C</td><td>A193 GrB16</td><td>B16</td></tr><tr><td>SCM3</td><td>M3</td><td>A193 GrB8</td><td>B8</td></tr><tr><td>A320 L7</td><td>L7</td><td>A193 GrB8C</td><td>B8C</td></tr><tr><td>A320 B8</td><td>B8L</td><td>A193 GrB8m</td><td>B8M</td></tr><tr><td>TYPE 304 S.S.</td><td>S304</td><td>A193 GrB8T</td><td>B8T</td></tr><tr><td>TYPE 304L S.S</td><td>S304L</td><td>A194 Gr2, 2H</td><td>G2, 2H</td></tr><tr><td>TYPE 321 S.S.</td><td>S321</td><td>A194 Gr3</td><td>G3</td></tr><tr><td>TYPE 316 S.S.</td><td>S316</td><td>A194 Gr4</td><td>G4</td></tr><tr><td>TYPE 316L S.S</td><td>S316L</td><td>A194 Gr6</td><td>G6</td></tr><tr><td>TYPE310S S.S</td><td>S310S</td><td>A194 Gr8</td><td>G8</td></tr><tr><td>TYPE347 S.S.</td><td>S347</td><td>A194 Gr8C</td><td>8C</td></tr><tr><td>TYPE 410 S.S.</td><td>S410</td><td>A194 GrsM</td><td>8M</td></tr><tr><td>TYPE 310 S.S.</td><td>S310</td><td>A194 Gr8T</td><td>8T</td></tr></table>"
            ]
          },
          "metadata": {}
        },
        {
          "output_type": "stream",
          "name": "stdout",
          "text": [
            "parent: 'ES-20.02 PAGE 19 OF 28' content: 9.0 Baseline Thickness measurement\n",
            "parent: 'ES-20.02 PAGE 19 OF 28' content: 8.0 MARKING\n",
            "parent: '8.0 MARKING' content: ES-20.02-D2.docx\n",
            "QUALITY REQUIREMENTS FOR PRESSURE VESSEL\n",
            "  \n",
            "PTT PUBLIC CO., LTD ENGINEERING STANDARD\n",
            "ES-20.02 PAGE 20 OF 28\n",
            "parent: 'ES-20.02 PAGE 20 OF 28' content: After vessel installation at site, contractor shall carried out thickness measurement of the vessel by using Ultrasonic method (UT).\n",
            "parent: 'ES-20.02 PAGE 20 OF 28' content: Measurement shall be :\n",
            "parent: 'ES-20.02 PAGE 20 OF 28' content: done at the internal surface of shell, nozzle, bottom, top, head etc. • basically, at 4 direction 0, 90,180, 270 degree • compare with the design thickness, corrosion allowance, selected thickness\n",
            "parent: 'ES-20.02 PAGE 20 OF 28' content: The location of measurement and format of report shall be submitted to PTT for prior approval. The report shall be in both hard copy and computer database. Marking of the measurement location on the vessel shall be done so that PTT can use for future reference.\n",
            "parent: 'ES-20.02 PAGE 20 OF 28' content: ES-20.02-D2.docx\n",
            "parent: 'ES-20.02 PAGE 20 OF 28' content: QUALITY REQUIREMENTS FOR PRESSURE VESSEL\n",
            "  \n",
            "PTT PUBLIC CO., LTD ENGINEERING STANDARD\n",
            "ES-20.02 PAGE 21 OF 28\n",
            "parent: 'ES-20.02 PAGE 21 OF 28' content: APPENDIX 1\n",
            "parent: 'APPENDIX 1' content: SUPPLEMENTARY REQUIREMENT FOR PRESSURE VESSEL\n",
            "parent: 'APPENDIX 1' content: General:\n",
            "parent: 'APPENDIX 1' content: This requirement shall be applied for the inspection and test of the pressure vessels, which are categorized in ASME Code Section VIII Division 1 and 2. Pressure vessels categorized in Division 2 shall be inspected and tested as per Alternative Rules of the code.\n",
            "parent: 'ES-20.02 PAGE 21 OF 28' content: 1. CLASSIFICATION OF THE VESSEL\n",
            "parent: '1. CLASSIFICATION OF THE VESSEL' content: Vessels and their parts are classified as shown in table A:\n",
            "parent: '1. CLASSIFICATION OF THE VESSEL' content: Table A. Classification of Vessel\n"
          ]
        },
        {
          "output_type": "display_data",
          "data": {
            "text/plain": [
              "<IPython.core.display.HTML object>"
            ],
            "text/html": [
              "<table><thead><th>Material and Services Carbon steel for high and intermediate temperature service (Design temp.&gt;- 10°C</th><th>Killed Steel</th><th>Class</th></thead><tr><td>Carbon steel for low temperature service (Design temp. &lt;-10°C)</td><td>Fine Grained steel</td><td>C</td></tr><tr><td>Low-alloy steel for low temperature service</td><td>2.5Ni 3.5 Ni Killed steel</td><td>D</td></tr><tr><td>Austenitic stainless steel</td><td></td><td></td></tr></table>"
            ]
          },
          "metadata": {}
        },
        {
          "output_type": "stream",
          "name": "stdout",
          "text": [
            "parent: '1. CLASSIFICATION OF THE VESSEL' content: Remarks:\n",
            "parent: '1. CLASSIFICATION OF THE VESSEL' content: 1.0 A vessel may be classified using any combination of the classes provided vessel parts having different materials and/or design condition.\n",
            "parent: '1. CLASSIFICATION OF THE VESSEL' content: 2.0 For common elements, the more severe classification shall apply.\n",
            "parent: '1. CLASSIFICATION OF THE VESSEL' content: ES-20.02-D2.docx\n",
            "QUALITY REQUIREMENTS FOR PRESSURE VESSEL\n",
            "  \n",
            "PTT PUBLIC CO., LTD ENGINEERING STANDARD\n",
            "ES-20.02 PAGE 22 OF 28\n",
            "parent: 'ES-20.02 PAGE 22 OF 28' content: ES-20.02-D2.docx\n",
            "  \n",
            "QUALITY REQUIREMENTS FOR PRESSURE VESSEL PTT PUBLIC CO., LTD ENGINEERING STANDARD\n",
            "parent: 'QUALITY REQUIREMENTS FOR PRESSURE VESSEL PTT PUBLIC CO., LTD ENGINEERING STANDARD' content: 2. INSPECTION AND TESTING REQUIREMENTS\n",
            "ES-20.02 PAGE 23 OF 28\n",
            "parent: 'ES-20.02 PAGE 23 OF 28' content: Inspection and testing requirements for the individual classification of vessel (Table A) are listed, but not limited to, as follows:\n",
            "parent: 'ES-20.02 PAGE 23 OF 28' content: Vessel Class B:\n"
          ]
        },
        {
          "output_type": "display_data",
          "data": {
            "text/plain": [
              "<IPython.core.display.HTML object>"
            ],
            "text/html": [
              "<table><thead><th></th><th>Inspection and Testing Requirements</th><th>Refer to ASME Paragraph</th><th>Notes</th></thead><tr><td colspan=\"4\">(1) UT is required for all carbon steel plates with a nominal thickness of 75 mm and above (*).</td></tr><tr><td>(2)</td><td>UT is required for all forging (except for standard nozzle flanges) with a nominal thickness of 100 mm and above (*).</td><td></td><td></td></tr><tr><td>(3)</td><td>Charpy impact tests of materials. Production test plates. Welders performance qualification. With shell thickness 100 mm and above *)</td><td rowspan=\"5\">UG-84 UCS-66 ucCs-67 Qw-140 Qw-170 QW-401.3</td><td>(iii)</td></tr><tr><td>(4)</td><td>MT or PT is required for welding edges of base materials with shell thickness 50 mm and above (*).</td><td></td><td>(iv)</td></tr><tr><td>(5 -</td><td>MT or PT is required for backside of double welded joints after being prepared for welding with shell thickness 50 mm and above (*).</td><td></td><td>(iv)</td></tr><tr><td>(6 =</td><td>MT is required for weld surface of: (a) Category A &amp; B with shell thickness 38 mm and above (*) (b) Category C &amp; D when full RT required (*). (c) Category E with shell thickness 50 mm and above (*)</td><td></td><td>(vi)</td></tr><tr><td>(7)</td><td>UT is required for Category A,B &amp; D with shell thickness 75 mm and above (*)</td><td></td><td>(iv)/(vii)</td></tr></table>"
            ]
          },
          "metadata": {}
        },
        {
          "output_type": "stream",
          "name": "stdout",
          "text": [
            "parent: 'Vessel Class B:' content: Note: 1. (*) PTT’s requirements\n",
            "parent: 'Vessel Class B:' content: ES-20.02-D2.docx\n",
            "QUALITY REQUIREMENTS FOR PRESSURE VESSEL\n",
            "  \n",
            "PTT PUBLIC CO., LTD ENGINEERING STANDARD\n",
            "ES-20.02 PAGE 24 OF 28\n",
            "parent: 'ES-20.02 PAGE 24 OF 28' content: Vessel Class C:\n"
          ]
        },
        {
          "output_type": "display_data",
          "data": {
            "text/plain": [
              "<IPython.core.display.HTML object>"
            ],
            "text/html": [
              "<table><thead><th></th><th>Inspection and Testing Requirements</th><th>Refer to ASME Paragraph</th><th>Notes</th></thead><tr><td>(1)</td><td>UT is required for all plates with a nominal thickness of 38 mm and above (*).</td><td></td><td></td></tr><tr><td>(2)</td><td>UT is required for all forging (except for standard nozzle flanges) with a nominal thickness of 100 mm and above (*).</td><td></td><td></td></tr><tr><td>(3)</td><td>Charpy impact tests of materials. Production test plates. Welders performance qualification.</td><td>UCS-66 UG-84 uUCs-67 QWwW-140 Qw-170 QW-401.3</td><td>(iii)</td></tr><tr><td>(4)</td><td>MT or PT is required for welding edges of base materials with shell thickness 38 mm and above (*).</td><td></td><td>(iv)</td></tr><tr><td>(5)</td><td>MT or PT is required for backside of double welded joints after being prepared for welding with shell thickness 25 mm and above (*).</td><td></td><td>(iv)</td></tr><tr><td>(6)</td><td>MT is required for weld surface of: (a) Category A &amp; B with shell thickness 25 mm and above (*) (b) Category C, D &amp; E (*).</td><td></td><td>(v)</td></tr><tr><td>(7)</td><td>UT is required for Category A,B &amp; D with shell thickness 50 mm and above (*)</td><td></td><td>(iv)/(vii )</td></tr><tr><td>(8)</td><td>Vessel production impact test (*).</td><td></td><td>(viii)</td></tr><tr><td>(9)</td><td>Tensile test for tube sheet hubs is required.</td><td>UW-13 (f)</td><td></td></tr></table>"
            ]
          },
          "metadata": {}
        },
        {
          "output_type": "stream",
          "name": "stdout",
          "text": [
            "parent: 'ES-20.02 PAGE 24 OF 28' content: Notes\n",
            "parent: 'ES-20.02 PAGE 24 OF 28' content: (iv)/(vii )\n",
            "parent: '(iv)/(vii )' content: Note: 1. (*) PTT’s requirements\n",
            "parent: '(iv)/(vii )' content: ES-20.02-D2.docx\n",
            "QUALITY REQUIREMENTS FOR PRESSURE VESSEL\n",
            "  \n",
            "PTT PUBLIC CO., LTD ENGINEERING STANDARD\n",
            "ES-20.02 PAGE 25 OF 28\n",
            "parent: 'ES-20.02 PAGE 25 OF 28' content: Vessel Class D:\n"
          ]
        },
        {
          "output_type": "display_data",
          "data": {
            "text/plain": [
              "<IPython.core.display.HTML object>"
            ],
            "text/html": [
              "<table><thead><th></th><th>Inspection and Testing Requirements</th><th>Refer to ASME Paragraph</th><th>Notes</th></thead><tr><td>(1)</td><td>UT is required for all plates with a nominal thickness of 38 mm and above (*).</td><td></td><td></td></tr><tr><td>(2)</td><td>UT is required for all forgings (except for standard nozzle flanges) with a nominal thickness of 100 mm and above (*).</td><td></td><td></td></tr><tr><td>(3)</td><td>MT or PT is required for welding edges of base materials with shell thickness 38 mm and above *)</td><td></td><td>(iv)</td></tr><tr><td>(4)</td><td>MT or PT is required for backside of double welded joints after being prepared for welding *)</td><td></td><td>(iv)</td></tr><tr><td>(5)</td><td>MT of weld surfaces for category A, B, C, D &amp; E *)</td><td></td><td rowspan=\"3\">(iv) (vii)</td></tr><tr><td>(6)</td><td>UT is required for category A,B &amp; D with shell thickness 50 mm and above (*).</td><td></td><td></td></tr><tr><td>(7)</td><td>Charpy impact test is required for all pressure retaining parts.</td><td>UCS-66</td><td></td></tr></table>"
            ]
          },
          "metadata": {}
        },
        {
          "output_type": "stream",
          "name": "stdout",
          "text": [
            "parent: 'Vessel Class D:' content: Note: 1. (*) PTT’s requirements\n",
            "parent: 'Vessel Class D:' content: ES-20.02-D2.docx\n",
            "QUALITY REQUIREMENTS FOR PRESSURE VESSEL\n",
            "  \n",
            "PTT PUBLIC CO., LTD ENGINEERING STANDARD\n",
            "ES-20.02 PAGE 26 OF 28\n",
            "parent: 'ES-20.02 PAGE 26 OF 28' content: Vessel Class S:\n"
          ]
        },
        {
          "output_type": "display_data",
          "data": {
            "text/plain": [
              "<IPython.core.display.HTML object>"
            ],
            "text/html": [
              "<table><thead><th></th><th>Inspection and Testing Requirements</th><th>Refer to ASME Paragraph</th><th>Notes</th></thead><tr><td>(1)</td><td>PT is required for backside of double welded joints after being prepared for welding with shell thickness 25 m and above (*)</td><td></td><td>(iv)</td></tr><tr><td>(2)</td><td>PT is required for weld surfaces of: (a) Category A, B, C, D &amp; E in contact with fluids (*). (b) Category A, B, C, D &amp; E when shell thickness 19 mm and above (*). (c) Category C &amp; D when full RT required (*).</td><td></td><td>(ix)</td></tr></table>"
            ]
          },
          "metadata": {}
        },
        {
          "output_type": "stream",
          "name": "stdout",
          "text": [
            "parent: 'ES-20.02 PAGE 26 OF 28' content: Note: 1. (*) PTT’s requirements\n",
            "parent: 'ES-20.02 PAGE 26 OF 28' content: Notes:\n",
            "parent: 'ES-20.02 PAGE 26 OF 28' content: Main components shall cover such parts as shell, heads, girth, flanges, forged nozzles, tube-sheets, channels and channel covers.\n",
            "parent: 'ES-20.02 PAGE 26 OF 28' content: The test temperature shall be the minimum design temperature or 0°C, whichever is lower.\n",
            "parent: 'ES-20.02 PAGE 26 OF 28' content: Charpy impact test shall be according to applicable Codes, Standards and Specifications.\n",
            "parent: 'ES-20.02 PAGE 26 OF 28' content: This requirement shall apply to the pressure retaining welds (Category A, B & D) in the shell and heads.\n",
            "parent: 'ES-20.02 PAGE 26 OF 28' content: Category A & B in nozzles that are not subject to RT shall additionally be examined by UT.\n",
            "parent: 'ES-20.02 PAGE 26 OF 28' content: vi) When full RT required, category A & B in nozzles that are not suitable to RT shall be examined by UT.\n",
            "parent: 'ES-20.02 PAGE 26 OF 28' content: vii) UT shall be performed after post weld heat treatment.\n",
            "parent: 'ES-20.02 PAGE 26 OF 28' content: viii) Vessel production impact tests shall be performed for minimum design temperature below -10°C. Impact tests shall be made both in the weld metal and heat affected zones.\n",
            "parent: 'ES-20.02 PAGE 26 OF 28' content: ix) PT shall apply to the interior surfaces of the welds regardless of thickness.\n",
            "parent: 'ES-20.02 PAGE 26 OF 28' content: ES-20.02-D2.docx\n",
            "parent: 'ES-20.02 PAGE 26 OF 28' content: QUALITY REQUIREMENTS FOR PRESSURE VESSEL\n",
            "  \n",
            "PTT PUBLIC CO., LTD ENGINEERING STANDARD\n",
            "ES-20.02 PAGE 27 OF 28\n",
            "parent: 'ES-20.02 PAGE 27 OF 28' content: This specification and the Inspection and Testing Requirements shall not be limited to the requirements of the applicable code.\n",
            "parent: 'ES-20.02 PAGE 27 OF 28' content: xi) Materials shall be verified by checking against the material test reports.\n",
            "parent: 'ES-20.02 PAGE 27 OF 28' content: xii) MT may be substituted by PT, if MT is considered impractical.\n",
            "parent: 'ES-20.02 PAGE 27 OF 28' content: ES-20.02-D2.docx\n"
          ]
        }
      ],
      "source": [
        "from IPython.display import display, HTML\n",
        "\n",
        "parents = {}\n",
        "\n",
        "for el in elements:\n",
        "    parents[el.id] = el.text\n",
        "\n",
        "for el in elements:\n",
        "    if el.category == \"Table\":\n",
        "        display(HTML(el.metadata.text_as_html))\n",
        "    elif el.metadata.parent_id:\n",
        "        print(f\"parent: '{parents[el.metadata.parent_id]}' content: {el.text}\")\n",
        "    else:\n",
        "        print(el)"
      ]
    },
    {
      "cell_type": "markdown",
      "metadata": {
        "id": "EmRZyCj20eZu"
      },
      "source": [
        "Here we clearly see that Unstructured is parsing both table and document structure."
      ]
    },
    {
      "cell_type": "markdown",
      "metadata": {
        "id": "kKnfHtro0eZu"
      },
      "source": [
        "### Storing into Astra DB\n",
        "\n",
        "Now we will continue with the RAG process, by creating embeddings for the pdf, and storing them in Astra."
      ]
    },
    {
      "cell_type": "code",
      "execution_count": 35,
      "metadata": {
        "editable": true,
        "tags": [],
        "id": "kfSPCMxo0eZu"
      },
      "outputs": [],
      "source": [
        "from langchain_astradb import AstraDBVectorStore\n",
        "from langchain_openai import OpenAIEmbeddings\n",
        "\n",
        "astra_db_store = AstraDBVectorStore(\n",
        "    collection_name=\"PTT_unstructured\",\n",
        "    embedding=OpenAIEmbeddings(),\n",
        "    token=os.getenv(\"ASTRA_DB_APPLICATION_TOKEN\"),\n",
        "    api_endpoint=os.getenv(\"ASTRA_DB_API_ENDPOINT\")\n",
        ")"
      ]
    },
    {
      "cell_type": "markdown",
      "metadata": {
        "id": "S-D3U6TR0eZu"
      },
      "source": [
        "We will create LangChain Documents by splitting the text after `Table` elements and before `Title` elements. Additionally, we use the html output format for table data."
      ]
    },
    {
      "cell_type": "code",
      "execution_count": 36,
      "metadata": {
        "id": "dAZikCR40eZu"
      },
      "outputs": [],
      "source": [
        "from langchain_core.documents import Document\n",
        "\n",
        "documents = []\n",
        "current_doc = None\n",
        "\n",
        "for el in elements:\n",
        "    if el.category in [\"Header\", \"Footer\"]:\n",
        "        continue # skip these\n",
        "    if el.category == \"Title\":\n",
        "        documents.append(current_doc)\n",
        "        current_doc = None\n",
        "    if not current_doc:\n",
        "        current_doc = Document(page_content=\"\", metadata=el.metadata.to_dict())\n",
        "    current_doc.page_content += el.metadata.text_as_html if el.category == \"Table\" else el.text\n",
        "    if el.category == \"Table\":\n",
        "        documents.append(current_doc)\n",
        "        current_doc = None\n",
        "\n"
      ]
    },
    {
      "cell_type": "code",
      "source": [
        "# Sanitise the data by filtering out None values from the documents list\n",
        "documents = [doc for doc in documents if doc is not None]\n"
      ],
      "metadata": {
        "id": "IullfKsP_Am-"
      },
      "execution_count": 37,
      "outputs": []
    },
    {
      "cell_type": "code",
      "source": [
        "astra_db_store.add_documents(documents)"
      ],
      "metadata": {
        "colab": {
          "base_uri": "https://localhost:8080/"
        },
        "id": "2IEbVN2u7xOd",
        "outputId": "75896f9c-7fe8-4235-9c7a-71f76941ce59"
      },
      "execution_count": 38,
      "outputs": [
        {
          "output_type": "execute_result",
          "data": {
            "text/plain": [
              "['3dd3456e271747ebad9ad986ae8a6982',\n",
              " '8caf451b19474519b13e0fc0660668de',\n",
              " 'e33730ebd3bf4ba7aa3ad2807c225f4c',\n",
              " '192062b51cf64965a113e98a442f32f8',\n",
              " '09d4864357744352a3ac3de4151de443',\n",
              " '1f83710dbb104c5b917f491b2cf2b087',\n",
              " 'f44214f3b8844974a43d31d75106ad6d',\n",
              " '1c20aa1592ac4f9c971faf1097290ebd',\n",
              " 'f60f8b27d90e4aa5bea8aa951f2cd6b1',\n",
              " '99d6376b057b4ce79623302788b04e77',\n",
              " '7d4bb9d049874dfca20d78839218f3bd',\n",
              " 'e1f2734a0c7a4065acf2322e5cd6551d',\n",
              " 'a76865a4cb7b412d84e2d5c83423e73b',\n",
              " 'd93602adfe2c47a493305dd3b8b18e50',\n",
              " 'c3cee894dc494a6b9d70e153e118f1fc',\n",
              " '8a3222714e9640019e64b190082d6e7d',\n",
              " '7ad2c73727ce4821b4198c5e3bf2d55b',\n",
              " 'bfcfba34e7d74bffb4b6d0790203c317',\n",
              " '6141c30088534d35aa6e8a4eda6b35ee',\n",
              " '29dc355c202642f6ba713cd8ac49f13c',\n",
              " 'd31854c3536146948542e267ca8c314f',\n",
              " 'ab488d7751f44941b779eb1c3e20391b',\n",
              " 'f1b78250733d41048631418ff4b503fd',\n",
              " 'd45b8f7429a5454fb484bf1ab53cf39d',\n",
              " 'b5e047a7e4a34fdd8305495f16b73a1f',\n",
              " '170cbcbf653b4d07ab2c461afa02789a',\n",
              " '912da3df14f342e49e0cabb96876af16',\n",
              " '3b8d03fae5e14bf1b6bdde6a566abcc7',\n",
              " 'f573e219f4a34257bf0b953d20082318',\n",
              " '7d33b952ee7c4b079b00fa3097bd8f33',\n",
              " '2efb053167b446e6be71a54b21185dc2',\n",
              " '3d1186289a3e4041b9eb7d02ae695858',\n",
              " 'fc6e2894d9a04b7c867a9aa896467578',\n",
              " '75d8d67eae844a36a3b913a99289dcd3',\n",
              " '31aa4fb6fa4e4b36b119411bde8e1066',\n",
              " '2710f57be1944fd18926b225b9f4db7a',\n",
              " '121cef0fca174124ad746a18fa994a14',\n",
              " '80c08a0c9d254fb0abbdee4dc574bc09',\n",
              " 'ebbc8303b789488e87fae637dc455503',\n",
              " 'd806650d214b48aaacc8640b805539de',\n",
              " '3c024c911caa48dca3063345846ae82d',\n",
              " '3b8a640dd1e844f599a22bd4f8941ad2',\n",
              " '7de392a6492d43c8a9e53167ad1fa2be',\n",
              " 'f1987aa66433496a916c89f1b241a7b6',\n",
              " 'df3316a5746f49e892c41bf20916fa98',\n",
              " '43140b605bd2486394ef93e223eeaeac',\n",
              " 'f828706b758848bf9b877571bfaf3890',\n",
              " '2ff7fd1ad2664eb3a149c04c3fad105c',\n",
              " '05386293940049da8ba35f1d9e903d32',\n",
              " '6fb2b84a128c4179afc02e74a9ae3ec9',\n",
              " 'fc5b441b14eb40ce8d09d0ddadffa9d3',\n",
              " 'db4ad430dd754f16ac39611e9fa79213',\n",
              " '7e87a2db34e7436594c5594dba12fa00',\n",
              " 'cbcf31669e6747daba6338098343b4f3',\n",
              " 'c7c357c0a2304872896a52418ce7cd34',\n",
              " 'ae78bf0da29241618d0f16217932c05f',\n",
              " '8eae5cf9233c4b55a11c5074bfe09942',\n",
              " '65993c4bf74f45068d5dafbff7c640df',\n",
              " 'dadb8f666ca54d81862d487ef1072556',\n",
              " '0ff6d5195f384cd7b2a16b894453080e',\n",
              " '3c6d2084d67a4e25aae2c7586524c465',\n",
              " 'd3017168347d467aa152396b362c3977',\n",
              " '4fc1fc0823e445129e7bcf54f095fd63',\n",
              " '4e0c5abd13f0421daa0619b5b166b8a3',\n",
              " '5fddbe652435482bab6810f9cb0d8d69',\n",
              " 'ef13a48b45d74c259b050cc9fc7e0c70',\n",
              " 'ffc2d16cc1f047ecac81dec7417e6d38',\n",
              " '64586a9bda044eadb8535df1239c7be1',\n",
              " '88718da63d194dcfba9348dc0703f6a9',\n",
              " '5e428867f43942d1b054ab0c2b83f822',\n",
              " 'ab261188915b44e7b984489609440c2e',\n",
              " 'c9a4f88c004d4659b129e6711351b43f',\n",
              " '6f49efa66fb94f3ead8fe1a0c42f941b',\n",
              " '5fd3b6c26b6f49889ed99eb519a47b19',\n",
              " '43b4610017fd4a9480922a39ea0519d4',\n",
              " '6f97301c60cf46da930517a7a70b515f',\n",
              " 'be49cb2d4f5c49ada8e6eed73398ee4e']"
            ]
          },
          "metadata": {},
          "execution_count": 38
        }
      ]
    },
    {
      "cell_type": "markdown",
      "metadata": {
        "id": "o2QLkPZQ0eZu"
      },
      "source": [
        "### Querying\n",
        "\n",
        "Now that we have populated our vector store, we will build a RAG pipeline and execute some queries."
      ]
    },
    {
      "cell_type": "code",
      "execution_count": 39,
      "metadata": {
        "id": "wUhG69qS0eZu"
      },
      "outputs": [],
      "source": [
        "from langchain_openai import ChatOpenAI\n",
        "from langchain_core.output_parsers import StrOutputParser\n",
        "from langchain_core.prompts import PromptTemplate\n",
        "from langchain_core.runnables import RunnablePassthrough\n",
        "\n",
        "prompt = \"\"\"\n",
        "Answer the question based only on the supplied context. If you don't know the answer, say \"I don't know\".\n",
        "Context: {context}\n",
        "Question: {question}\n",
        "Your answer:\n",
        "\"\"\"\n",
        "\n",
        "llm = ChatOpenAI(model=\"gpt-3.5-turbo\", streaming=False, temperature=0)\n",
        "\n",
        "chain = (\n",
        "    {\"context\": astra_db_store.as_retriever(), \"question\": RunnablePassthrough()}\n",
        "    | PromptTemplate.from_template(prompt)\n",
        "    | llm\n",
        "    | StrOutputParser()\n",
        ")"
      ]
    },
    {
      "cell_type": "markdown",
      "metadata": {
        "id": "FD7Ez9xF0eZu"
      },
      "source": [
        "First we can ask a question about some text in the document:"
      ]
    },
    {
      "cell_type": "code",
      "execution_count": 40,
      "metadata": {
        "id": "gNogn3X-0eZu",
        "outputId": "e4934e1a-d9e6-436f-8bbb-5f8ce370e6b1",
        "colab": {
          "base_uri": "https://localhost:8080/",
          "height": 35
        }
      },
      "outputs": [
        {
          "output_type": "execute_result",
          "data": {
            "text/plain": [
              "'Markings in ink, oily paint, or waterproof color should be used.'"
            ],
            "application/vnd.google.colaboratory.intrinsic+json": {
              "type": "string"
            }
          },
          "metadata": {},
          "execution_count": 40
        }
      ],
      "source": [
        "chain.invoke(\"What kind of markings should be used?\")"
      ]
    },
    {
      "cell_type": "markdown",
      "metadata": {
        "id": "gqYpINCh0eZu"
      },
      "source": [
        "Next we can try to get a value from the 2nd table:"
      ]
    },
    {
      "cell_type": "code",
      "execution_count": null,
      "metadata": {
        "outputId": "0b7b6db7-4dc9-44ff-de2b-b245161d251a",
        "colab": {
          "base_uri": "https://localhost:8080/",
          "height": 35
        },
        "id": "Vvg4RVlFA8z5"
      },
      "outputs": [
        {
          "output_type": "execute_result",
          "data": {
            "text/plain": [
              "'S304L'"
            ],
            "application/vnd.google.colaboratory.intrinsic+json": {
              "type": "string"
            }
          },
          "metadata": {},
          "execution_count": 41
        }
      ],
      "source": [
        "chain.invoke(\"What should be the marking symbol for TYPE 304L S.S?\")"
      ]
    },
    {
      "cell_type": "code",
      "execution_count": 42,
      "metadata": {
        "id": "X2bkYuh10eZu",
        "outputId": "860ed9c9-91cb-49bc-b8cc-02cc803d32fa",
        "colab": {
          "base_uri": "https://localhost:8080/",
          "height": 71
        }
      },
      "outputs": [
        {
          "output_type": "execute_result",
          "data": {
            "text/plain": [
              "'Annealing, normalizing, and tempering as required by table 1 should be performed in accordance with table 2 for cold forming stainless steel material.'"
            ],
            "application/vnd.google.colaboratory.intrinsic+json": {
              "type": "string"
            }
          },
          "metadata": {},
          "execution_count": 42
        }
      ],
      "source": [
        "chain.invoke(\"What is the recommended heat treatment for cold forming SS material\")"
      ]
    },
    {
      "cell_type": "code",
      "source": [],
      "metadata": {
        "id": "yx7Yf6BPBpIh"
      },
      "execution_count": null,
      "outputs": []
    },
    {
      "cell_type": "code",
      "source": [
        " chain.invoke(\"What is the holding temperature for post weld heat treatment for Carbon steel material type?\")"
      ],
      "metadata": {
        "colab": {
          "base_uri": "https://localhost:8080/",
          "height": 35
        },
        "id": "PR9t6RzlBY3P",
        "outputId": "64ae48a9-1540-4206-fa9d-20ac0549c7a2"
      },
      "execution_count": 44,
      "outputs": [
        {
          "output_type": "execute_result",
          "data": {
            "text/plain": [
              "\"I don't know.\""
            ],
            "application/vnd.google.colaboratory.intrinsic+json": {
              "type": "string"
            }
          },
          "metadata": {},
          "execution_count": 44
        }
      ]
    },
    {
      "cell_type": "code",
      "source": [
        "#Debug\n",
        "astra_db_store.similarity_search_with_score(\"Carbon steel\")"
      ],
      "metadata": {
        "colab": {
          "base_uri": "https://localhost:8080/"
        },
        "id": "kFBDKhbqDBri",
        "outputId": "a755dfdd-9642-43b1-d449-e802ce7c3192"
      },
      "execution_count": 49,
      "outputs": [
        {
          "output_type": "execute_result",
          "data": {
            "text/plain": [
              "[(Document(page_content='1. CLASSIFICATION OF THE VESSELVessels and their parts are classified as shown in table A:Table A. Classification of Vessel<table><thead><th>Material and Services Carbon steel for high and intermediate temperature service (Design temp.&gt;- 10°C</th><th>Killed Steel</th><th>Class</th></thead><tr><td>Carbon steel for low temperature service (Design temp. &lt;-10°C)</td><td>Fine Grained steel</td><td>C</td></tr><tr><td>Low-alloy steel for low temperature service</td><td>2.5Ni 3.5 Ni Killed steel</td><td>D</td></tr><tr><td>Austenitic stainless steel</td><td></td><td></td></tr></table>', metadata={'filetype': 'application/pdf', 'languages': ['eng'], 'page_number': 21, 'parent_id': '674ecd15c17e6673137a36e51247bf34', 'filename': 'ES-20.02-D2_Quality_Requirement_for_Pressure_Vessel.pdf'}),\n",
              "  0.91858506),\n",
              " (Document(page_content='PTT PUBLIC CO., LTD ENGINEERING STANDARD<table><thead><th>Carbon steel</th><th>600+/-20</th><th>60</th></thead><tr><td>1.25Cr-0.5Mo</td><td>660+/-20</td><td>120</td></tr><tr><td>2.25Cr-0.5Mo</td><td>715+/-25</td><td>120</td></tr><tr><td>5Cr-0.5Mo or 9Cr-1Mo</td><td>730+/-30</td><td>120</td></tr><tr><td>3.5Ni</td><td>615+/-15</td><td>60</td></tr></table>', metadata={'filetype': 'application/pdf', 'languages': ['eng'], 'page_number': 12, 'filename': 'ES-20.02-D2_Quality_Requirement_for_Pressure_Vessel.pdf'}),\n",
              "  0.9129069),\n",
              " (Document(page_content='QUALITY REQUIREMENTS FOR PRESSURE VESSEL  and sketches.Pressure vessels shall be designed and fabricated in accordance with ASME Boiler and Pressure Vessel Code section VIII, Division 2. The Division 1 may be selected if all other additional requirements as specified by Owner and/or indicated on datasheet.The ASME Code symbol stamp shall be applied hen required by Local Regulation or at the OWNER’s request.5.1 All materials shall be new and meet the requirement of Code and applicable fabrication standard.All pressure retaining materials and materials welded on to pressure- retaining part shall have Carbon 0.22% maximum in case of carbon steel and 0.19% in case of C-Mo and C-Cr-Mo steels.In exceptional cases carbon steels with carbon above 0.22% Carbon content may be up to 0.25 % provided % Carbon plus one sixth of %Manganese does not exceed 0.40% for all cases, except SA105,for which % Carbon plus one sixth of %Manganese may be up to 0.45%.5.3Sour service (SG) or Amine service requirement For equipment specified as in Sour service or Amine service, the following requirement shall apply.5.3.1 Pressure parts of carbon steel equipment shall be manufactured from fine- grained and normalized condition5.3.2 Carbon content shall not exceed 0.22%, except forgings which shall be limited to 0.25 % maximumCarbon equivalent (CE) shall not exceed 0.40 as formula below ;% Carbon plus one sixth of %Manganese does not exceed 0.40%<table><tr><td>The chemical</td><td>composition,</td><td>product analysis shall be limited as follows</td></tr><tr><td>% Manganese</td><td>= -</td><td>1.30 maximum</td></tr><tr><td>% Phosphorus</td><td></td><td>0.025 maximum</td></tr><tr><td>% Sulphur</td><td>non</td><td>0.003 maximum</td></tr><tr><td>% V+Nb</td><td>1}</td><td>0.03 maximum</td></tr></table>', metadata={'filetype': 'application/pdf', 'languages': ['eng'], 'page_number': 5, 'parent_id': 'ff24e519370e1528227d5eb1711bde68', 'filename': 'ES-20.02-D2_Quality_Requirement_for_Pressure_Vessel.pdf'}),\n",
              "  0.9031388),\n",
              " (Document(page_content='6.3.6 When clad steel or dissimilar welded parts are heat-treated, the heat- treating procedure shall be submitted for PTT /CONSULTANT approval.Austenitic stainless steel shall not be subject to PWHT or stabilization Heat treatment without approval from PTT / CONSULTANT.6.3.8 Thermocouples shall be attached every 4.6 meters both longitudinally and circumferentially at the top, bottom and centre of the vessel and at each head.6.3.9 Plates, seamless heads, parts of built-up heads, and similar pressure-holding parts subject to cold or hot bending or forming or forging shall be heat- treated as required by table 1. Annealing, normalizing, and tempering required by table 1 shall be performed in accordance with table 2.ES-20.02-D2.docx  ', metadata={'filetype': 'application/pdf', 'languages': ['eng'], 'page_number': 12, 'parent_id': '81495141234b65402108c967e3226796', 'filename': 'ES-20.02-D2_Quality_Requirement_for_Pressure_Vessel.pdf'}),\n",
              "  0.90283287)]"
            ]
          },
          "metadata": {},
          "execution_count": 49
        }
      ]
    },
    {
      "cell_type": "code",
      "source": [
        "#Debug\n",
        "astra_db_store.similarity_search_with_score(\"What is the holding temperature for post weld heat treatment for Carbon steel material type?\")"
      ],
      "metadata": {
        "colab": {
          "base_uri": "https://localhost:8080/"
        },
        "outputId": "b5ea4dc5-082e-4fd4-8f81-61bc02910894",
        "id": "phSOztw0DCFJ"
      },
      "execution_count": null,
      "outputs": [
        {
          "output_type": "execute_result",
          "data": {
            "text/plain": [
              "[(Document(page_content='6.3 Post weld Heat Treatment( PWHT)6.3.1 PWHT shall not be commenced unless and until all non-destructive testing has been successfully completed. PWHT shall be performed prior final examination.6.3.2 No welding is permissible on the equipment after completion of post weld heat treatment.6.3.3 All carbon steel and C- Mn steels shall be subject to PHWT where “Sour service” or “Amine service” is indicated.6.3.4 A continuous record of temperature shall be made on recorder charts.6.3.5 The holding temperature for post weld heat treatment or stress relief temperature shall be :', metadata={'filetype': 'application/pdf', 'languages': ['eng'], 'page_number': 11, 'parent_id': '917e2a0ba25081f5662f26efa4039865', 'filename': 'ES-20.02-D2_Quality_Requirement_for_Pressure_Vessel.pdf'}),\n",
              "  0.942477),\n",
              " (Document(page_content='6.3.6 When clad steel or dissimilar welded parts are heat-treated, the heat- treating procedure shall be submitted for PTT /CONSULTANT approval.Austenitic stainless steel shall not be subject to PWHT or stabilization Heat treatment without approval from PTT / CONSULTANT.6.3.8 Thermocouples shall be attached every 4.6 meters both longitudinally and circumferentially at the top, bottom and centre of the vessel and at each head.6.3.9 Plates, seamless heads, parts of built-up heads, and similar pressure-holding parts subject to cold or hot bending or forming or forging shall be heat- treated as required by table 1. Annealing, normalizing, and tempering required by table 1 shall be performed in accordance with table 2.ES-20.02-D2.docx  ', metadata={'filetype': 'application/pdf', 'languages': ['eng'], 'page_number': 12, 'parent_id': '81495141234b65402108c967e3226796', 'filename': 'ES-20.02-D2_Quality_Requirement_for_Pressure_Vessel.pdf'}),\n",
              "  0.92556703),\n",
              " (Document(page_content='Table 2 Heat-Treating Requirements<table><thead><th>Heat Treatmen</th><th>Type of Material</th><th>Soaking Temp (c</th><th>Holding Time (hour)</th><th>Method of Cooling</th></thead><tr><td rowspan=\"3\">Anneal</td><td>AISI Types 304 316, 321, and 347</td><td>1,040 - 1,100</td><td rowspan=\"3\">1 per 25 mm of thickness but not less than 1/2 1 per 25 mm of thickness but not less than 1</td><td rowspan=\"3\">Water Quench or Air blast</td></tr><tr><td></td><td>Incoloy</td><td>1,150 (1)</td><td></td><td></td></tr><tr><td></td><td>AIS| Type 310</td><td></td><td></td><td></td></tr><tr><td rowspan=\"2\">Normaliz e</td><td>C steel C% % Mo steel %2 t0 9 % CrMo steel</td><td>900 - 950</td><td rowspan=\"2\">1 per 25 mm of thickness but not less than 2</td><td rowspan=\"2\">Still air</td></tr><tr><td></td><td>2to 6 % Ni steel</td><td>820 - 845</td><td></td><td></td></tr><tr><td rowspan=\"2\">Temper</td><td>%2 t0 9 % CrMo steel</td><td>700 - 760</td><td rowspan=\"2\">1 per 25 mm of thickness but not less than 1</td><td>In furnace (2)</td></tr><tr><td></td><td>2to 6 % Ni steel</td><td>593 - 650</td><td></td><td>Still air</td></tr></table>', metadata={'filetype': 'application/pdf', 'languages': ['eng'], 'page_number': 15, 'filename': 'ES-20.02-D2_Quality_Requirement_for_Pressure_Vessel.pdf'}),\n",
              "  0.92419684),\n",
              " (Document(page_content='PTT PUBLIC CO., LTD ENGINEERING STANDARDRemarks*1: PWHT can be performed on the dished end after vessel assembly.*2: Simulation by mill can be representative of test.*3: When the dished ends from a plate are heat-treated in different lots and the records (charts) show good conformity with each other with regard to cooling rate (±15 °C) and to soaking temperature (±15 °C), such heat treatments can be deemed as one lot.*4: When normalizing and tempering are required to the base material, tempering shall be performed.*5: No test is required when dished ends are not heat-treated after forming.*6: Bending and forming are defined for ferritic materials as cold when thetemperature is below the maximum temperature permitted by para 6.3.5, and hot when above 870°C; and for austenitic materials as cold when the temperature is 593°C or below, and as hot when over 593°C. Bending and forming shall not be performed on ferritic materials at temperatures between the maximum cold temperature and 870°C.*7: Pressure vessel formed parts having a ratio of thickness to local radius greater than 5% shall be stress-relieved prior to any subsequent operations.*8: See para 5.3 and 7.5.4 as regards hardness for “Sour Service.(SG)”ES-20.02-D2.docx  ', metadata={'filetype': 'application/pdf', 'languages': ['eng'], 'page_number': 14, 'filename': 'ES-20.02-D2_Quality_Requirement_for_Pressure_Vessel.pdf'}),\n",
              "  0.921628)]"
            ]
          },
          "metadata": {},
          "execution_count": 48
        }
      ]
    },
    {
      "cell_type": "markdown",
      "metadata": {
        "id": "FeFew3k_0eZu"
      },
      "source": [
        "And finally we can ask a question that doesn't exist in our content to confirm that the LLM rejection is working correctly."
      ]
    }
  ],
  "metadata": {
    "kernelspec": {
      "display_name": "Python 3 (ipykernel)",
      "language": "python",
      "name": "python3"
    },
    "language_info": {
      "codemirror_mode": {
        "name": "ipython",
        "version": 3
      },
      "file_extension": ".py",
      "mimetype": "text/x-python",
      "name": "python",
      "nbconvert_exporter": "python",
      "pygments_lexer": "ipython3",
      "version": "3.11.7"
    },
    "colab": {
      "provenance": []
    }
  },
  "nbformat": 4,
  "nbformat_minor": 0
}